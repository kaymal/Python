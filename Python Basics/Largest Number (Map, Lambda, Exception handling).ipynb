{
 "cells": [
  {
   "cell_type": "markdown",
   "metadata": {},
   "source": [
    "# Largest Number\n",
    "\n",
    "In this example we try to find whether the largest number in a given list is at least twice of other numbers in the list or not. If the largest number fulfill the condition, we print out the index of the number, otherwise we print '-1'."
   ]
  },
  {
   "cell_type": "code",
   "execution_count": 93,
   "metadata": {},
   "outputs": [],
   "source": [
    "nums1 = [1, 3, 7]\n",
    "nums2 = [1, 3, 5]"
   ]
  },
  {
   "cell_type": "markdown",
   "metadata": {},
   "source": [
    "Built-in max function gives us the largest number in the list."
   ]
  },
  {
   "cell_type": "code",
   "execution_count": 94,
   "metadata": {},
   "outputs": [
    {
     "name": "stdout",
     "output_type": "stream",
     "text": [
      "largest1 : 7, largest2 : 5\n"
     ]
    }
   ],
   "source": [
    "l1 = max(nums1)\n",
    "l2 = max(nums2)\n",
    "print('largest1 : ' + str(l1) + ', largest2 : ' + str(l2))"
   ]
  },
  {
   "cell_type": "code",
   "execution_count": 95,
   "metadata": {},
   "outputs": [
    {
     "name": "stdout",
     "output_type": "stream",
     "text": [
      "7\n",
      "[1, 3]\n"
     ]
    }
   ],
   "source": [
    "i1 = nums1.index(max(nums1))\n",
    "l1 = nums1.pop(i)\n",
    "print(l1)\n",
    "print(nums1)"
   ]
  },
  {
   "cell_type": "markdown",
   "metadata": {},
   "source": [
    "We now check whether the largest number is greater than or equal to 2 times each element in the list. The result is a list of booleans _True_ or _False_. "
   ]
  },
  {
   "cell_type": "code",
   "execution_count": 96,
   "metadata": {},
   "outputs": [
    {
     "name": "stdout",
     "output_type": "stream",
     "text": [
      "[True, True]\n"
     ]
    }
   ],
   "source": [
    "result1 = map(lambda x: l1 >= 2*x, nums1)\n",
    "result1_list = list(result1)\n",
    "print(result1_list)"
   ]
  },
  {
   "cell_type": "markdown",
   "metadata": {},
   "source": [
    "If **all** the elemenst in the list is _True_, then the largest number is printed. Else, -1 is printed."
   ]
  },
  {
   "cell_type": "code",
   "execution_count": 97,
   "metadata": {},
   "outputs": [
    {
     "name": "stdout",
     "output_type": "stream",
     "text": [
      "2\n"
     ]
    }
   ],
   "source": [
    "if all(result1_list):\n",
    "    print(i1)\n",
    "else:\n",
    "    print(-1)"
   ]
  },
  {
   "cell_type": "markdown",
   "metadata": {},
   "source": [
    "Same code for the second list: nums2."
   ]
  },
  {
   "cell_type": "code",
   "execution_count": 98,
   "metadata": {},
   "outputs": [
    {
     "name": "stdout",
     "output_type": "stream",
     "text": [
      "5\n",
      "[1, 3]\n"
     ]
    }
   ],
   "source": [
    "i2 = nums2.index(max(nums2))\n",
    "l2 = nums2.pop(i2)\n",
    "print(l2)\n",
    "print(nums2)"
   ]
  },
  {
   "cell_type": "code",
   "execution_count": 99,
   "metadata": {},
   "outputs": [
    {
     "name": "stdout",
     "output_type": "stream",
     "text": [
      "[True, False]\n"
     ]
    }
   ],
   "source": [
    "result2 = map(lambda x: l2 >= 2*x, nums2)\n",
    "result2_list = list(result2)\n",
    "print(result2_list)"
   ]
  },
  {
   "cell_type": "code",
   "execution_count": 101,
   "metadata": {},
   "outputs": [
    {
     "name": "stdout",
     "output_type": "stream",
     "text": [
      "-1\n"
     ]
    }
   ],
   "source": [
    "if all(result2_list):\n",
    "    print(i2)\n",
    "else:\n",
    "    print(-1)"
   ]
  },
  {
   "cell_type": "markdown",
   "metadata": {},
   "source": [
    "Another solution is using _List Comprehension_ (without _map_ and _lambda_ functions)."
   ]
  },
  {
   "cell_type": "code",
   "execution_count": 6,
   "metadata": {},
   "outputs": [
    {
     "name": "stdout",
     "output_type": "stream",
     "text": [
      "2\n"
     ]
    }
   ],
   "source": [
    "nums = [1, 2, 5]\n",
    "i = nums.index(max(nums))\n",
    "l = nums.pop(i)\n",
    "result_list = [l >= 2*x for x in nums]\n",
    "if all(result_list):\n",
    "    print(i)\n",
    "else:\n",
    "    print(-1)"
   ]
  }
 ],
 "metadata": {
  "kernelspec": {
   "display_name": "Python 3",
   "language": "python",
   "name": "python3"
  },
  "language_info": {
   "codemirror_mode": {
    "name": "ipython",
    "version": 3
   },
   "file_extension": ".py",
   "mimetype": "text/x-python",
   "name": "python",
   "nbconvert_exporter": "python",
   "pygments_lexer": "ipython3",
   "version": "3.7.0"
  }
 },
 "nbformat": 4,
 "nbformat_minor": 2
}
