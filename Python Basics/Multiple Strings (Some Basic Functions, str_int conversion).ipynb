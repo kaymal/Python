{
 "cells": [
  {
   "cell_type": "markdown",
   "metadata": {},
   "source": [
    "# Multiple String "
   ]
  },
  {
   "cell_type": "markdown",
   "metadata": {},
   "source": [
    "Sometimes, it might be the case that we have numbers as strings. Can we make calculations using these strings? Yes, and even without using the predefined int() function. \n",
    "\n",
    "In this example, following are covered:\n",
    "* Sting-Integer conversion\n",
    "* Input\n",
    "* _len_, _ord_ functions."
   ]
  },
  {
   "cell_type": "markdown",
   "metadata": {},
   "source": [
    "Lets get two inputs from a user as strings:"
   ]
  },
  {
   "cell_type": "code",
   "execution_count": 1,
   "metadata": {},
   "outputs": [
    {
     "name": "stdin",
     "output_type": "stream",
     "text": [
      "Enter the first number: 3\n",
      "Enter the second number: 11\n"
     ]
    }
   ],
   "source": [
    "x, y = input('Enter the first number:'), input('Enter the second number:')"
   ]
  },
  {
   "cell_type": "markdown",
   "metadata": {},
   "source": [
    "The addition operator for stings merges those two inputs, and the result is another string."
   ]
  },
  {
   "cell_type": "code",
   "execution_count": 2,
   "metadata": {},
   "outputs": [
    {
     "name": "stdout",
     "output_type": "stream",
     "text": [
      "Type:  <class 'str'>\n",
      "x + y = 311\n"
     ]
    }
   ],
   "source": [
    "print('Type: ', type(x + y))\n",
    "print('x + y =', x + y)"
   ]
  },
  {
   "cell_type": "markdown",
   "metadata": {},
   "source": [
    "An easy way to calculate the sum of two inputs is to convert them to integers."
   ]
  },
  {
   "cell_type": "code",
   "execution_count": 3,
   "metadata": {},
   "outputs": [
    {
     "name": "stdout",
     "output_type": "stream",
     "text": [
      "14\n"
     ]
    }
   ],
   "source": [
    "print(int(x) + int(y))"
   ]
  },
  {
   "cell_type": "markdown",
   "metadata": {},
   "source": [
    "However, we can also do this without using the int() function. "
   ]
  },
  {
   "cell_type": "code",
   "execution_count": 6,
   "metadata": {},
   "outputs": [
    {
     "name": "stdout",
     "output_type": "stream",
     "text": [
      "14\n"
     ]
    }
   ],
   "source": [
    "x_int, y_int = 0, 0\n",
    "\n",
    "#convert \"x\" to integer\n",
    "for i in range(1, len(x) + 1): #count from 1 to number of digits\n",
    "    x_int += (ord(x[-i]) - ord(\"0\")) * (10 ** (i-1)) #convert ones, tenths and hundredths according to their place values \n",
    "\n",
    "#convert \"y\" to integer\n",
    "for i in range(1, len(y) + 1): #count from 1 to number of digits\n",
    "    y_int += (ord(y[-i]) - ord(\"0\")) * (10 ** (i-1)) #convert ones, tenths and hundredths according to their place values \n",
    "\n",
    "print(x_int + y_int) #print the result of the multiplication"
   ]
  }
 ],
 "metadata": {
  "kernelspec": {
   "display_name": "Python 3",
   "language": "python",
   "name": "python3"
  },
  "language_info": {
   "codemirror_mode": {
    "name": "ipython",
    "version": 3
   },
   "file_extension": ".py",
   "mimetype": "text/x-python",
   "name": "python",
   "nbconvert_exporter": "python",
   "pygments_lexer": "ipython3",
   "version": "3.7.0"
  }
 },
 "nbformat": 4,
 "nbformat_minor": 2
}
