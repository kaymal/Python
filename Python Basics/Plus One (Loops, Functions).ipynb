{
 "cells": [
  {
   "cell_type": "markdown",
   "metadata": {},
   "source": [
    "# Plus One: \n",
    "\n",
    "Given a array of digits in which the array represents an integer, we want to add 'one' to the number. For example, the list \\[1, 2, 3\\] represents the number 123. When we add one, the result would be 124 and the output is \\[1, 2, 4\\]. \n"
   ]
  },
  {
   "cell_type": "markdown",
   "metadata": {},
   "source": [
    "The problem here is that, if the least significant digit is '9' we must add one to the digit on the left. If the second one is also '9', the same applies for the third one. Therefore, we need to take into account all the digits, and we should add an additional digit to the list when necessary. Here is one solution to the problem:"
   ]
  },
  {
   "cell_type": "code",
   "execution_count": 2,
   "metadata": {},
   "outputs": [],
   "source": [
    "digits = [1, 2, 3]"
   ]
  },
  {
   "cell_type": "code",
   "execution_count": 3,
   "metadata": {},
   "outputs": [
    {
     "name": "stdout",
     "output_type": "stream",
     "text": [
      "[1, 2, 4]\n"
     ]
    }
   ],
   "source": [
    "check = True\n",
    "i = 0\n",
    "\n",
    "while check and i != -len(digits) :\n",
    "    i -= 1\n",
    "    digits[i] = (digits[i] + 1) % 10\n",
    "    check = (digits[i] == 0)\n",
    "    \n",
    "    if digits[0] == 0:\n",
    "        digits.insert(0, 1)\n",
    "\n",
    "print(digits)  "
   ]
  },
  {
   "cell_type": "markdown",
   "metadata": {},
   "source": [
    "A more efficient solution is:"
   ]
  },
  {
   "cell_type": "code",
   "execution_count": 5,
   "metadata": {},
   "outputs": [],
   "source": [
    "digits = [1, 2, 3]"
   ]
  },
  {
   "cell_type": "code",
   "execution_count": 6,
   "metadata": {},
   "outputs": [
    {
     "name": "stdout",
     "output_type": "stream",
     "text": [
      "[1, 2, 4]\n"
     ]
    }
   ],
   "source": [
    "def add_one(digits):\n",
    "    for i in range(-1, -len(digits)-1, -1)  :\n",
    "        digits[i] = (digits[i] + 1) % 10\n",
    "        if digits[i] != 0:\n",
    "            return(digits)\n",
    "    digits.insert(0, 1)\n",
    "    return(digits)\n",
    "\n",
    "print(add_one(digits))"
   ]
  },
  {
   "cell_type": "markdown",
   "metadata": {},
   "source": [
    "Let's try with a different array of digits:"
   ]
  },
  {
   "cell_type": "code",
   "execution_count": 7,
   "metadata": {},
   "outputs": [],
   "source": [
    "digits = [9, 9, 9]"
   ]
  },
  {
   "cell_type": "code",
   "execution_count": 8,
   "metadata": {},
   "outputs": [
    {
     "name": "stdout",
     "output_type": "stream",
     "text": [
      "[1, 0, 0, 0]\n"
     ]
    }
   ],
   "source": [
    "def add_one(digits):\n",
    "    for i in range(-1, -len(digits)-1, -1)  :\n",
    "        digits[i] = (digits[i] + 1) % 10\n",
    "        if digits[i] != 0:\n",
    "            return(digits)\n",
    "    digits.insert(0, 1)\n",
    "    return(digits)\n",
    "\n",
    "print(add_one(digits))"
   ]
  }
 ],
 "metadata": {
  "kernelspec": {
   "display_name": "Python 3",
   "language": "python",
   "name": "python3"
  },
  "language_info": {
   "codemirror_mode": {
    "name": "ipython",
    "version": 3
   },
   "file_extension": ".py",
   "mimetype": "text/x-python",
   "name": "python",
   "nbconvert_exporter": "python",
   "pygments_lexer": "ipython3",
   "version": "3.7.0"
  }
 },
 "nbformat": 4,
 "nbformat_minor": 2
}
