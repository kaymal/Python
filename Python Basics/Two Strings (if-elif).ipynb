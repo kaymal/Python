{
 "cells": [
  {
   "cell_type": "markdown",
   "metadata": {},
   "source": [
    "# Two Strings (Buddy Strings)\n",
    "\n",
    "In this example, I check whether two strings become the same with swapping only two letters of one of the strings. For instance, if string S = \"xy\" and string T = \"yx\" the result is _True_."
   ]
  },
  {
   "cell_type": "markdown",
   "metadata": {},
   "source": [
    "Let's first create the strings \"S\" and \"T\"."
   ]
  },
  {
   "cell_type": "code",
   "execution_count": 42,
   "metadata": {},
   "outputs": [],
   "source": [
    "S = \"abcd\"\n",
    "T = \"dbca\""
   ]
  },
  {
   "cell_type": "markdown",
   "metadata": {},
   "source": [
    "First, it is best to start with checking whether the two strings have same type and number of characters."
   ]
  },
  {
   "cell_type": "code",
   "execution_count": 47,
   "metadata": {},
   "outputs": [],
   "source": [
    "if set(S) != set(T) or len(S) != len(T):\n",
    "    print (False)"
   ]
  },
  {
   "cell_type": "markdown",
   "metadata": {},
   "source": [
    "Now, I define a fuction to check the condition."
   ]
  },
  {
   "cell_type": "code",
   "execution_count": 44,
   "metadata": {},
   "outputs": [],
   "source": [
    "def check_strings(A, B):\n",
    "    x = 0\n",
    "    for i in range(0, len(A)):\n",
    "        if A[i] != B[i]:\n",
    "            x += 1\n",
    "    return x"
   ]
  },
  {
   "cell_type": "code",
   "execution_count": 51,
   "metadata": {},
   "outputs": [
    {
     "name": "stdout",
     "output_type": "stream",
     "text": [
      "True\n"
     ]
    }
   ],
   "source": [
    "print(not check_strings(S, T) > 2)"
   ]
  },
  {
   "cell_type": "markdown",
   "metadata": {},
   "source": [
    "This code gives us the correct result for the cases when there are more than 2 different characters, but not for all cases. For example, when the number of characters in both strings are less than or equal to 2, then we get _True_ even though the result should actually be _False_."
   ]
  },
  {
   "cell_type": "code",
   "execution_count": 57,
   "metadata": {},
   "outputs": [],
   "source": [
    "S = \"ab\"\n",
    "T = \"ab\""
   ]
  },
  {
   "cell_type": "code",
   "execution_count": 58,
   "metadata": {},
   "outputs": [
    {
     "name": "stdout",
     "output_type": "stream",
     "text": [
      "False\n"
     ]
    }
   ],
   "source": [
    "x = 0\n",
    "index = []\n",
    "for i in range(0, len(S)):\n",
    "    if S[i] != T[i]:\n",
    "        x += 1\n",
    "        index.append(i)\n",
    "    if x > 2:\n",
    "        print(False)\n",
    "if x == 2:\n",
    "    print(S[index[0]] == T[index[1]] and S[index[1]] == T[index[0]])\n",
    "elif x == 1:\n",
    "    print(False)\n",
    "else: # x == 0\n",
    "    print(len(S) - len(set(S)) > 0)"
   ]
  },
  {
   "cell_type": "code",
   "execution_count": 59,
   "metadata": {},
   "outputs": [],
   "source": [
    "S = \"aa\"\n",
    "T = \"aa\""
   ]
  },
  {
   "cell_type": "code",
   "execution_count": 60,
   "metadata": {},
   "outputs": [
    {
     "name": "stdout",
     "output_type": "stream",
     "text": [
      "True\n"
     ]
    }
   ],
   "source": [
    "x = 0\n",
    "index = []\n",
    "for i in range(0, len(S)):\n",
    "    if S[i] != T[i]:\n",
    "        x += 1\n",
    "        index.append(i)\n",
    "    if x > 2:\n",
    "        print(False)\n",
    "if x == 2:\n",
    "    print(S[index[0]] == T[index[1]] and S[index[1]] == T[index[0]])\n",
    "elif x == 1:\n",
    "    print(False)\n",
    "else: # x == 0\n",
    "    print(len(S) - len(set(S)) > 0)"
   ]
  }
 ],
 "metadata": {
  "kernelspec": {
   "display_name": "Python 3",
   "language": "python",
   "name": "python3"
  },
  "language_info": {
   "codemirror_mode": {
    "name": "ipython",
    "version": 3
   },
   "file_extension": ".py",
   "mimetype": "text/x-python",
   "name": "python",
   "nbconvert_exporter": "python",
   "pygments_lexer": "ipython3",
   "version": "3.7.0"
  }
 },
 "nbformat": 4,
 "nbformat_minor": 2
}
