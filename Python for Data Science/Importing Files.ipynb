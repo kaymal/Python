{
 "cells": [
  {
   "cell_type": "markdown",
   "metadata": {},
   "source": [
    "# Importing Files"
   ]
  },
  {
   "cell_type": "markdown",
   "metadata": {},
   "source": [
    "## Text Files"
   ]
  },
  {
   "cell_type": "markdown",
   "metadata": {},
   "source": [
    "Open a text file in read-only mode:"
   ]
  },
  {
   "cell_type": "code",
   "execution_count": 2,
   "metadata": {},
   "outputs": [],
   "source": [
    "file = open('filename.txt', 'r')\n",
    "\n",
    "file.close() #close the file"
   ]
  },
  {
   "cell_type": "markdown",
   "metadata": {},
   "source": [
    "Opening a text file by using a context manager construct, and printing the first two lines:"
   ]
  },
  {
   "cell_type": "code",
   "execution_count": 16,
   "metadata": {},
   "outputs": [
    {
     "name": "stdout",
     "output_type": "stream",
     "text": [
      "Example text file...first line.\n",
      "...second line.\n",
      "\n",
      "\n"
     ]
    }
   ],
   "source": [
    "with open('filename.txt') as file:\n",
    "    print(file.read()) # print only one line.\n",
    "    print(file.read()) # print the next line."
   ]
  },
  {
   "cell_type": "markdown",
   "metadata": {},
   "source": [
    "## Flat Files with NumPy"
   ]
  },
  {
   "cell_type": "markdown",
   "metadata": {},
   "source": [
    "Importing a csv file:"
   ]
  },
  {
   "cell_type": "code",
   "execution_count": 6,
   "metadata": {},
   "outputs": [],
   "source": [
    "import numpy as np"
   ]
  },
  {
   "cell_type": "code",
   "execution_count": null,
   "metadata": {},
   "outputs": [],
   "source": [
    "file = 'filename.csv'\n",
    "data = np.loadtxt(file, delimiter=',')"
   ]
  },
  {
   "cell_type": "markdown",
   "metadata": {},
   "source": [
    "Importing a tab-delimited file:"
   ]
  },
  {
   "cell_type": "code",
   "execution_count": null,
   "metadata": {},
   "outputs": [],
   "source": [
    "file = 'filename.txt'\n",
    "data = np.loadtxt(file, delimiter='\\t')"
   ]
  },
  {
   "cell_type": "markdown",
   "metadata": {},
   "source": [
    "Other possible arguments for _.loadtxt()_ method."
   ]
  },
  {
   "cell_type": "code",
   "execution_count": 15,
   "metadata": {},
   "outputs": [
    {
     "data": {
      "text/plain": [
       "<function numpy.lib.npyio.loadtxt(fname, dtype=<class 'float'>, comments='#', delimiter=None, converters=None, skiprows=0, usecols=None, unpack=False, ndmin=0, encoding='bytes')>"
      ]
     },
     "execution_count": 15,
     "metadata": {},
     "output_type": "execute_result"
    }
   ],
   "source": [
    "np.loadtxt"
   ]
  },
  {
   "cell_type": "markdown",
   "metadata": {},
   "source": [
    "Datatype is float, unless another type passed to the function. \n",
    "\n",
    "In some cases, however, columns of a dataset may contain different datatypes such as floats and strings. To handle this, we use _np.genfromtxt()_ and pass _dtype=None_."
   ]
  },
  {
   "cell_type": "code",
   "execution_count": null,
   "metadata": {},
   "outputs": [],
   "source": [
    "data = np.genfromtxt(file, delimiter=',', names=True, dtype=None)"
   ]
  },
  {
   "cell_type": "markdown",
   "metadata": {},
   "source": [
    "If the delimiter is ',' names=True and dtype=None, then we can use another function without explicitly passing arguments other than the file name."
   ]
  },
  {
   "cell_type": "code",
   "execution_count": null,
   "metadata": {},
   "outputs": [],
   "source": [
    "data = np.recfromcsv(file)"
   ]
  },
  {
   "cell_type": "markdown",
   "metadata": {},
   "source": [
    "## Flat Files with Pandas"
   ]
  },
  {
   "cell_type": "markdown",
   "metadata": {},
   "source": [
    "It is easier to import files using the pandas functions read_csv() and read_table()."
   ]
  },
  {
   "cell_type": "code",
   "execution_count": null,
   "metadata": {},
   "outputs": [],
   "source": [
    "import pandas as pd\n",
    "\n",
    "file = 'filename.csv'\n",
    "df = pd.read_csv(file)\n",
    "df.head() # Print the head of the DataFrame"
   ]
  },
  {
   "cell_type": "markdown",
   "metadata": {},
   "source": [
    "## Excel Files with Pandas"
   ]
  },
  {
   "cell_type": "code",
   "execution_count": null,
   "metadata": {},
   "outputs": [],
   "source": [
    "import pandas as pd\n",
    "\n",
    "file = 'filename.xlsx'\n",
    "xls = pd.ExcelFile(file)"
   ]
  },
  {
   "cell_type": "markdown",
   "metadata": {},
   "source": [
    "Importing sheets as data frames."
   ]
  },
  {
   "cell_type": "code",
   "execution_count": null,
   "metadata": {},
   "outputs": [],
   "source": [
    "print(xls.sheet_names) # print sheet names of the Excel file.\n",
    "\n",
    "df1 = xls.parse('Sheet1') \n",
    "df1 = xls.parse(0) # We can also use the index of the sheet instead of the sheet name"
   ]
  },
  {
   "cell_type": "markdown",
   "metadata": {},
   "source": [
    "## Relational Databases"
   ]
  },
  {
   "cell_type": "markdown",
   "metadata": {},
   "source": [
    "Creating a database engine: "
   ]
  },
  {
   "cell_type": "code",
   "execution_count": null,
   "metadata": {},
   "outputs": [],
   "source": [
    "from sqlalchemy import create_engine\n",
    "import pandas as pd\n",
    "\n",
    "engine = create_engine('sqlite:///filename.sqlite') # Create an engine to connect to 'filename.sqlite'\n",
    "print(engine.table_names()) # Print table names\n",
    "\n",
    "# connection = engine.connect() # Open the engine connection (need to close)\n",
    "\n",
    "with engine.connect() as connection: # Open the engine connection (no need to close...)\n",
    "    tk = connection.execute('SELECT * FROM Table') # Query\n",
    "    df = pd.DataFrame(tk.fetchall()) # Save results to a DataFrame. Specifying fetch size is also possible: e.g. \"rs.fetchmany(size=5)\" \n",
    "    df.columns = tk.keys() # Set the column names"
   ]
  },
  {
   "cell_type": "markdown",
   "metadata": {},
   "source": [
    "Using pandas to get the same result with less lines of code:"
   ]
  },
  {
   "cell_type": "code",
   "execution_count": null,
   "metadata": {},
   "outputs": [],
   "source": [
    "from sqlalchemy import create_engine\n",
    "import pandas as pd\n",
    "\n",
    "engine = create_engine('sqlite:///filename.sqlite')\n",
    "df = pd.read_sql_query('SELECT * FROM Table', engine)"
   ]
  },
  {
   "cell_type": "markdown",
   "metadata": {},
   "source": [
    "## Web"
   ]
  },
  {
   "cell_type": "markdown",
   "metadata": {},
   "source": [
    "### Flat Files"
   ]
  },
  {
   "cell_type": "markdown",
   "metadata": {},
   "source": [
    "Importing and saving locally:"
   ]
  },
  {
   "cell_type": "code",
   "execution_count": null,
   "metadata": {},
   "outputs": [],
   "source": [
    "from urllib.request import urlretrieve #required for saving the file locally\n",
    "import pandas as pd\n",
    "\n",
    "url = 'https://xyz.com/filename.csv'\n",
    "urlretrieve(url, 'filename.csv') # Save the file locally to the current directory. (Not required)\n",
    "\n",
    "df = pd.read_csv('filename.csv', sep=';') # Read the file into a Data Frame. (sep : str, default ','Delimiter to use.)\n"
   ]
  },
  {
   "cell_type": "markdown",
   "metadata": {},
   "source": [
    "Importing without saving locally:"
   ]
  },
  {
   "cell_type": "code",
   "execution_count": null,
   "metadata": {},
   "outputs": [],
   "source": [
    "import pandas as pd\n",
    "\n",
    "url = 'https://xyz.com/filename.csv'\n",
    "df = pd.read_csv(url, sep=';')"
   ]
  },
  {
   "cell_type": "markdown",
   "metadata": {},
   "source": [
    "### Non-flat Files"
   ]
  },
  {
   "cell_type": "code",
   "execution_count": null,
   "metadata": {},
   "outputs": [],
   "source": [
    "import pandas as pd\n",
    "\n",
    "url = 'https://xyz.com/filename.csv'\n",
    "xls = pd.read_excel(url, sheetname = None) #  'None' is passed in order to import all sheets.\n",
    "\n",
    "print(xls.keys()) # Print sheet names"
   ]
  },
  {
   "cell_type": "markdown",
   "metadata": {},
   "source": [
    "### HTTP Requests and Web Scraping"
   ]
  },
  {
   "cell_type": "code",
   "execution_count": null,
   "metadata": {},
   "outputs": [],
   "source": [
    "import requests\n",
    "from bs4 import BeautifulSoup # Beautiful Soup is a Python package for parsing HTML and XML documents\n",
    "\n",
    "url = 'https://www.python.org/~guido/'\n",
    "req = requests.get(url) # Package and send the request, and catch the response\n",
    "html_txt = req.text # Extract the response as html (return the HTML of the webpage as a string )\n",
    "soup = BeautifulSoup(html_txt) # Create a BeautifulSoup object\n",
    "pretty_soup = soup.prettify() # Prettify the BeautifulSoup object\n",
    "\n",
    "print(soup.title) # Print the title of the webpage\n",
    "print(soup.text) # Print the text of the webpage\n",
    "\n",
    "a_tags = soup.find_all('a') # Find all hyperlinks (a_tag = <a>)\n",
    "for link in a_tags:\n",
    "    ### Print all URLs\n",
    "    print(link.get('href')) "
   ]
  },
  {
   "cell_type": "markdown",
   "metadata": {},
   "source": [
    "### Interacting with APIs"
   ]
  },
  {
   "cell_type": "code",
   "execution_count": 3,
   "metadata": {},
   "outputs": [
    {
     "name": "stdout",
     "output_type": "stream",
     "text": [
      "Title:  The Matrix\n",
      "Year:  1999\n",
      "Rated:  R\n",
      "Released:  31 Mar 1999\n",
      "Runtime:  136 min\n",
      "Genre:  Action, Sci-Fi\n",
      "Director:  Lana Wachowski, Lilly Wachowski\n",
      "Writer:  Lilly Wachowski, Lana Wachowski\n",
      "Actors:  Keanu Reeves, Laurence Fishburne, Carrie-Anne Moss, Hugo Weaving\n",
      "Plot:  A computer hacker learns from mysterious rebels about the true nature of his reality and his role in the war against its controllers.\n",
      "Language:  English\n",
      "Country:  USA\n",
      "Awards:  Won 4 Oscars. Another 34 wins & 48 nominations.\n",
      "Poster:  https://m.media-amazon.com/images/M/MV5BNzQzOTk3OTAtNDQ0Zi00ZTVkLWI0MTEtMDllZjNkYzNjNTc4L2ltYWdlXkEyXkFqcGdeQXVyNjU0OTQ0OTY@._V1_SX300.jpg\n",
      "Ratings:  [{'Source': 'Internet Movie Database', 'Value': '8.7/10'}, {'Source': 'Rotten Tomatoes', 'Value': '88%'}, {'Source': 'Metacritic', 'Value': '73/100'}]\n",
      "Metascore:  73\n",
      "imdbRating:  8.7\n",
      "imdbVotes:  1,461,604\n",
      "imdbID:  tt0133093\n",
      "Type:  movie\n",
      "DVD:  21 Sep 1999\n",
      "BoxOffice:  N/A\n",
      "Production:  Warner Bros. Pictures\n",
      "Website:  http://www.whatisthematrix.com\n",
      "Response:  True\n"
     ]
    }
   ],
   "source": [
    "import requests\n",
    "\n",
    "url = 'http://www.omdbapi.com/?apikey=72bc447a&t=the+matrix' # Query the webpage for the data of to the movie: The Matrix.\n",
    "req = requests.get(url)\n",
    "\n",
    "json_data = req.json() # Decode the JSON data into a Dict.\n",
    "\n",
    "for name in json_data.keys():\n",
    "    ### Print key-value pairs\n",
    "    print(name + ': ', json_data[name])"
   ]
  },
  {
   "cell_type": "markdown",
   "metadata": {},
   "source": [
    "Interacting with Twitter API"
   ]
  },
  {
   "cell_type": "code",
   "execution_count": null,
   "metadata": {},
   "outputs": [],
   "source": [
    "import tweepy # Package for handling the Twitter API OAuth Authentication details\n",
    "\n",
    "access_token = \"xyz\"\n",
    "access_token_secret = \"xyz\"\n",
    "consumer_key = \"xyz\"\n",
    "consumer_secret = \"xyz\"\n",
    "\n",
    "#Passsing of OAuth credentials to the OAuth handler\n",
    "auth = tweepy.OAuthHandler(consumer_key, consumer_secret)\n",
    "auth.set_access_token(access_token, access_token_secret)\n",
    "\n"
   ]
  }
 ],
 "metadata": {
  "kernelspec": {
   "display_name": "Python 3",
   "language": "python",
   "name": "python3"
  },
  "language_info": {
   "codemirror_mode": {
    "name": "ipython",
    "version": 3
   },
   "file_extension": ".py",
   "mimetype": "text/x-python",
   "name": "python",
   "nbconvert_exporter": "python",
   "pygments_lexer": "ipython3",
   "version": "3.7.0"
  }
 },
 "nbformat": 4,
 "nbformat_minor": 2
}
