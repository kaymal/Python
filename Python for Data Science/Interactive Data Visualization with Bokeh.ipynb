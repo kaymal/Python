{
 "cells": [
  {
   "cell_type": "markdown",
   "metadata": {},
   "source": [
    "# Interactive Data Visualization with Bokeh"
   ]
  },
  {
   "cell_type": "markdown",
   "metadata": {},
   "source": [
    "## Inline Plots"
   ]
  },
  {
   "cell_type": "markdown",
   "metadata": {},
   "source": [
    "1. Jupyter Notebook\n",
    "\n",
    "We need to use `output_notebook()` from `bokeh.io` module in order to display plots inline."
   ]
  },
  {
   "cell_type": "code",
   "execution_count": 1,
   "metadata": {},
   "outputs": [
    {
     "data": {
      "text/html": [
       "\n",
       "    <div class=\"bk-root\">\n",
       "        <a href=\"https://bokeh.pydata.org\" target=\"_blank\" class=\"bk-logo bk-logo-small bk-logo-notebook\"></a>\n",
       "        <span id=\"67066ddf-f18b-43b9-b693-10e33a61c084\">Loading BokehJS ...</span>\n",
       "    </div>"
      ]
     },
     "metadata": {},
     "output_type": "display_data"
    },
    {
     "data": {
      "application/javascript": [
       "\n",
       "(function(root) {\n",
       "  function now() {\n",
       "    return new Date();\n",
       "  }\n",
       "\n",
       "  var force = true;\n",
       "\n",
       "  if (typeof (root._bokeh_onload_callbacks) === \"undefined\" || force === true) {\n",
       "    root._bokeh_onload_callbacks = [];\n",
       "    root._bokeh_is_loading = undefined;\n",
       "  }\n",
       "\n",
       "  var JS_MIME_TYPE = 'application/javascript';\n",
       "  var HTML_MIME_TYPE = 'text/html';\n",
       "  var EXEC_MIME_TYPE = 'application/vnd.bokehjs_exec.v0+json';\n",
       "  var CLASS_NAME = 'output_bokeh rendered_html';\n",
       "\n",
       "  /**\n",
       "   * Render data to the DOM node\n",
       "   */\n",
       "  function render(props, node) {\n",
       "    var script = document.createElement(\"script\");\n",
       "    node.appendChild(script);\n",
       "  }\n",
       "\n",
       "  /**\n",
       "   * Handle when an output is cleared or removed\n",
       "   */\n",
       "  function handleClearOutput(event, handle) {\n",
       "    var cell = handle.cell;\n",
       "\n",
       "    var id = cell.output_area._bokeh_element_id;\n",
       "    var server_id = cell.output_area._bokeh_server_id;\n",
       "    // Clean up Bokeh references\n",
       "    if (id != null && id in Bokeh.index) {\n",
       "      Bokeh.index[id].model.document.clear();\n",
       "      delete Bokeh.index[id];\n",
       "    }\n",
       "\n",
       "    if (server_id !== undefined) {\n",
       "      // Clean up Bokeh references\n",
       "      var cmd = \"from bokeh.io.state import curstate; print(curstate().uuid_to_server['\" + server_id + \"'].get_sessions()[0].document.roots[0]._id)\";\n",
       "      cell.notebook.kernel.execute(cmd, {\n",
       "        iopub: {\n",
       "          output: function(msg) {\n",
       "            var id = msg.content.text.trim();\n",
       "            if (id in Bokeh.index) {\n",
       "              Bokeh.index[id].model.document.clear();\n",
       "              delete Bokeh.index[id];\n",
       "            }\n",
       "          }\n",
       "        }\n",
       "      });\n",
       "      // Destroy server and session\n",
       "      var cmd = \"import bokeh.io.notebook as ion; ion.destroy_server('\" + server_id + \"')\";\n",
       "      cell.notebook.kernel.execute(cmd);\n",
       "    }\n",
       "  }\n",
       "\n",
       "  /**\n",
       "   * Handle when a new output is added\n",
       "   */\n",
       "  function handleAddOutput(event, handle) {\n",
       "    var output_area = handle.output_area;\n",
       "    var output = handle.output;\n",
       "\n",
       "    // limit handleAddOutput to display_data with EXEC_MIME_TYPE content only\n",
       "    if ((output.output_type != \"display_data\") || (!output.data.hasOwnProperty(EXEC_MIME_TYPE))) {\n",
       "      return\n",
       "    }\n",
       "\n",
       "    var toinsert = output_area.element.find(\".\" + CLASS_NAME.split(' ')[0]);\n",
       "\n",
       "    if (output.metadata[EXEC_MIME_TYPE][\"id\"] !== undefined) {\n",
       "      toinsert[toinsert.length - 1].firstChild.textContent = output.data[JS_MIME_TYPE];\n",
       "      // store reference to embed id on output_area\n",
       "      output_area._bokeh_element_id = output.metadata[EXEC_MIME_TYPE][\"id\"];\n",
       "    }\n",
       "    if (output.metadata[EXEC_MIME_TYPE][\"server_id\"] !== undefined) {\n",
       "      var bk_div = document.createElement(\"div\");\n",
       "      bk_div.innerHTML = output.data[HTML_MIME_TYPE];\n",
       "      var script_attrs = bk_div.children[0].attributes;\n",
       "      for (var i = 0; i < script_attrs.length; i++) {\n",
       "        toinsert[toinsert.length - 1].firstChild.setAttribute(script_attrs[i].name, script_attrs[i].value);\n",
       "      }\n",
       "      // store reference to server id on output_area\n",
       "      output_area._bokeh_server_id = output.metadata[EXEC_MIME_TYPE][\"server_id\"];\n",
       "    }\n",
       "  }\n",
       "\n",
       "  function register_renderer(events, OutputArea) {\n",
       "\n",
       "    function append_mime(data, metadata, element) {\n",
       "      // create a DOM node to render to\n",
       "      var toinsert = this.create_output_subarea(\n",
       "        metadata,\n",
       "        CLASS_NAME,\n",
       "        EXEC_MIME_TYPE\n",
       "      );\n",
       "      this.keyboard_manager.register_events(toinsert);\n",
       "      // Render to node\n",
       "      var props = {data: data, metadata: metadata[EXEC_MIME_TYPE]};\n",
       "      render(props, toinsert[toinsert.length - 1]);\n",
       "      element.append(toinsert);\n",
       "      return toinsert\n",
       "    }\n",
       "\n",
       "    /* Handle when an output is cleared or removed */\n",
       "    events.on('clear_output.CodeCell', handleClearOutput);\n",
       "    events.on('delete.Cell', handleClearOutput);\n",
       "\n",
       "    /* Handle when a new output is added */\n",
       "    events.on('output_added.OutputArea', handleAddOutput);\n",
       "\n",
       "    /**\n",
       "     * Register the mime type and append_mime function with output_area\n",
       "     */\n",
       "    OutputArea.prototype.register_mime_type(EXEC_MIME_TYPE, append_mime, {\n",
       "      /* Is output safe? */\n",
       "      safe: true,\n",
       "      /* Index of renderer in `output_area.display_order` */\n",
       "      index: 0\n",
       "    });\n",
       "  }\n",
       "\n",
       "  // register the mime type if in Jupyter Notebook environment and previously unregistered\n",
       "  if (root.Jupyter !== undefined) {\n",
       "    var events = require('base/js/events');\n",
       "    var OutputArea = require('notebook/js/outputarea').OutputArea;\n",
       "\n",
       "    if (OutputArea.prototype.mime_types().indexOf(EXEC_MIME_TYPE) == -1) {\n",
       "      register_renderer(events, OutputArea);\n",
       "    }\n",
       "  }\n",
       "\n",
       "  \n",
       "  if (typeof (root._bokeh_timeout) === \"undefined\" || force === true) {\n",
       "    root._bokeh_timeout = Date.now() + 5000;\n",
       "    root._bokeh_failed_load = false;\n",
       "  }\n",
       "\n",
       "  var NB_LOAD_WARNING = {'data': {'text/html':\n",
       "     \"<div style='background-color: #fdd'>\\n\"+\n",
       "     \"<p>\\n\"+\n",
       "     \"BokehJS does not appear to have successfully loaded. If loading BokehJS from CDN, this \\n\"+\n",
       "     \"may be due to a slow or bad network connection. Possible fixes:\\n\"+\n",
       "     \"</p>\\n\"+\n",
       "     \"<ul>\\n\"+\n",
       "     \"<li>re-rerun `output_notebook()` to attempt to load from CDN again, or</li>\\n\"+\n",
       "     \"<li>use INLINE resources instead, as so:</li>\\n\"+\n",
       "     \"</ul>\\n\"+\n",
       "     \"<code>\\n\"+\n",
       "     \"from bokeh.resources import INLINE\\n\"+\n",
       "     \"output_notebook(resources=INLINE)\\n\"+\n",
       "     \"</code>\\n\"+\n",
       "     \"</div>\"}};\n",
       "\n",
       "  function display_loaded() {\n",
       "    var el = document.getElementById(\"67066ddf-f18b-43b9-b693-10e33a61c084\");\n",
       "    if (el != null) {\n",
       "      el.textContent = \"BokehJS is loading...\";\n",
       "    }\n",
       "    if (root.Bokeh !== undefined) {\n",
       "      if (el != null) {\n",
       "        el.textContent = \"BokehJS \" + root.Bokeh.version + \" successfully loaded.\";\n",
       "      }\n",
       "    } else if (Date.now() < root._bokeh_timeout) {\n",
       "      setTimeout(display_loaded, 100)\n",
       "    }\n",
       "  }\n",
       "\n",
       "\n",
       "  function run_callbacks() {\n",
       "    try {\n",
       "      root._bokeh_onload_callbacks.forEach(function(callback) { callback() });\n",
       "    }\n",
       "    finally {\n",
       "      delete root._bokeh_onload_callbacks\n",
       "    }\n",
       "    console.info(\"Bokeh: all callbacks have finished\");\n",
       "  }\n",
       "\n",
       "  function load_libs(js_urls, callback) {\n",
       "    root._bokeh_onload_callbacks.push(callback);\n",
       "    if (root._bokeh_is_loading > 0) {\n",
       "      console.log(\"Bokeh: BokehJS is being loaded, scheduling callback at\", now());\n",
       "      return null;\n",
       "    }\n",
       "    if (js_urls == null || js_urls.length === 0) {\n",
       "      run_callbacks();\n",
       "      return null;\n",
       "    }\n",
       "    console.log(\"Bokeh: BokehJS not loaded, scheduling load and callback at\", now());\n",
       "    root._bokeh_is_loading = js_urls.length;\n",
       "    for (var i = 0; i < js_urls.length; i++) {\n",
       "      var url = js_urls[i];\n",
       "      var s = document.createElement('script');\n",
       "      s.src = url;\n",
       "      s.async = false;\n",
       "      s.onreadystatechange = s.onload = function() {\n",
       "        root._bokeh_is_loading--;\n",
       "        if (root._bokeh_is_loading === 0) {\n",
       "          console.log(\"Bokeh: all BokehJS libraries loaded\");\n",
       "          run_callbacks()\n",
       "        }\n",
       "      };\n",
       "      s.onerror = function() {\n",
       "        console.warn(\"failed to load library \" + url);\n",
       "      };\n",
       "      console.log(\"Bokeh: injecting script tag for BokehJS library: \", url);\n",
       "      document.getElementsByTagName(\"head\")[0].appendChild(s);\n",
       "    }\n",
       "  };var element = document.getElementById(\"67066ddf-f18b-43b9-b693-10e33a61c084\");\n",
       "  if (element == null) {\n",
       "    console.log(\"Bokeh: ERROR: autoload.js configured with elementid '67066ddf-f18b-43b9-b693-10e33a61c084' but no matching script tag was found. \")\n",
       "    return false;\n",
       "  }\n",
       "\n",
       "  var js_urls = [\"https://cdn.pydata.org/bokeh/release/bokeh-0.13.0.min.js\", \"https://cdn.pydata.org/bokeh/release/bokeh-widgets-0.13.0.min.js\", \"https://cdn.pydata.org/bokeh/release/bokeh-tables-0.13.0.min.js\", \"https://cdn.pydata.org/bokeh/release/bokeh-gl-0.13.0.min.js\"];\n",
       "\n",
       "  var inline_js = [\n",
       "    function(Bokeh) {\n",
       "      Bokeh.set_log_level(\"info\");\n",
       "    },\n",
       "    \n",
       "    function(Bokeh) {\n",
       "      \n",
       "    },\n",
       "    function(Bokeh) {\n",
       "      console.log(\"Bokeh: injecting CSS: https://cdn.pydata.org/bokeh/release/bokeh-0.13.0.min.css\");\n",
       "      Bokeh.embed.inject_css(\"https://cdn.pydata.org/bokeh/release/bokeh-0.13.0.min.css\");\n",
       "      console.log(\"Bokeh: injecting CSS: https://cdn.pydata.org/bokeh/release/bokeh-widgets-0.13.0.min.css\");\n",
       "      Bokeh.embed.inject_css(\"https://cdn.pydata.org/bokeh/release/bokeh-widgets-0.13.0.min.css\");\n",
       "      console.log(\"Bokeh: injecting CSS: https://cdn.pydata.org/bokeh/release/bokeh-tables-0.13.0.min.css\");\n",
       "      Bokeh.embed.inject_css(\"https://cdn.pydata.org/bokeh/release/bokeh-tables-0.13.0.min.css\");\n",
       "    }\n",
       "  ];\n",
       "\n",
       "  function run_inline_js() {\n",
       "    \n",
       "    if ((root.Bokeh !== undefined) || (force === true)) {\n",
       "      for (var i = 0; i < inline_js.length; i++) {\n",
       "        inline_js[i].call(root, root.Bokeh);\n",
       "      }if (force === true) {\n",
       "        display_loaded();\n",
       "      }} else if (Date.now() < root._bokeh_timeout) {\n",
       "      setTimeout(run_inline_js, 100);\n",
       "    } else if (!root._bokeh_failed_load) {\n",
       "      console.log(\"Bokeh: BokehJS failed to load within specified timeout.\");\n",
       "      root._bokeh_failed_load = true;\n",
       "    } else if (force !== true) {\n",
       "      var cell = $(document.getElementById(\"67066ddf-f18b-43b9-b693-10e33a61c084\")).parents('.cell').data().cell;\n",
       "      cell.output_area.append_execute_result(NB_LOAD_WARNING)\n",
       "    }\n",
       "\n",
       "  }\n",
       "\n",
       "  if (root._bokeh_is_loading === 0) {\n",
       "    console.log(\"Bokeh: BokehJS loaded, going straight to plotting\");\n",
       "    run_inline_js();\n",
       "  } else {\n",
       "    load_libs(js_urls, function() {\n",
       "      console.log(\"Bokeh: BokehJS plotting callback run at\", now());\n",
       "      run_inline_js();\n",
       "    });\n",
       "  }\n",
       "}(window));"
      ],
      "application/vnd.bokehjs_load.v0+json": "\n(function(root) {\n  function now() {\n    return new Date();\n  }\n\n  var force = true;\n\n  if (typeof (root._bokeh_onload_callbacks) === \"undefined\" || force === true) {\n    root._bokeh_onload_callbacks = [];\n    root._bokeh_is_loading = undefined;\n  }\n\n  \n\n  \n  if (typeof (root._bokeh_timeout) === \"undefined\" || force === true) {\n    root._bokeh_timeout = Date.now() + 5000;\n    root._bokeh_failed_load = false;\n  }\n\n  var NB_LOAD_WARNING = {'data': {'text/html':\n     \"<div style='background-color: #fdd'>\\n\"+\n     \"<p>\\n\"+\n     \"BokehJS does not appear to have successfully loaded. If loading BokehJS from CDN, this \\n\"+\n     \"may be due to a slow or bad network connection. Possible fixes:\\n\"+\n     \"</p>\\n\"+\n     \"<ul>\\n\"+\n     \"<li>re-rerun `output_notebook()` to attempt to load from CDN again, or</li>\\n\"+\n     \"<li>use INLINE resources instead, as so:</li>\\n\"+\n     \"</ul>\\n\"+\n     \"<code>\\n\"+\n     \"from bokeh.resources import INLINE\\n\"+\n     \"output_notebook(resources=INLINE)\\n\"+\n     \"</code>\\n\"+\n     \"</div>\"}};\n\n  function display_loaded() {\n    var el = document.getElementById(\"67066ddf-f18b-43b9-b693-10e33a61c084\");\n    if (el != null) {\n      el.textContent = \"BokehJS is loading...\";\n    }\n    if (root.Bokeh !== undefined) {\n      if (el != null) {\n        el.textContent = \"BokehJS \" + root.Bokeh.version + \" successfully loaded.\";\n      }\n    } else if (Date.now() < root._bokeh_timeout) {\n      setTimeout(display_loaded, 100)\n    }\n  }\n\n\n  function run_callbacks() {\n    try {\n      root._bokeh_onload_callbacks.forEach(function(callback) { callback() });\n    }\n    finally {\n      delete root._bokeh_onload_callbacks\n    }\n    console.info(\"Bokeh: all callbacks have finished\");\n  }\n\n  function load_libs(js_urls, callback) {\n    root._bokeh_onload_callbacks.push(callback);\n    if (root._bokeh_is_loading > 0) {\n      console.log(\"Bokeh: BokehJS is being loaded, scheduling callback at\", now());\n      return null;\n    }\n    if (js_urls == null || js_urls.length === 0) {\n      run_callbacks();\n      return null;\n    }\n    console.log(\"Bokeh: BokehJS not loaded, scheduling load and callback at\", now());\n    root._bokeh_is_loading = js_urls.length;\n    for (var i = 0; i < js_urls.length; i++) {\n      var url = js_urls[i];\n      var s = document.createElement('script');\n      s.src = url;\n      s.async = false;\n      s.onreadystatechange = s.onload = function() {\n        root._bokeh_is_loading--;\n        if (root._bokeh_is_loading === 0) {\n          console.log(\"Bokeh: all BokehJS libraries loaded\");\n          run_callbacks()\n        }\n      };\n      s.onerror = function() {\n        console.warn(\"failed to load library \" + url);\n      };\n      console.log(\"Bokeh: injecting script tag for BokehJS library: \", url);\n      document.getElementsByTagName(\"head\")[0].appendChild(s);\n    }\n  };var element = document.getElementById(\"67066ddf-f18b-43b9-b693-10e33a61c084\");\n  if (element == null) {\n    console.log(\"Bokeh: ERROR: autoload.js configured with elementid '67066ddf-f18b-43b9-b693-10e33a61c084' but no matching script tag was found. \")\n    return false;\n  }\n\n  var js_urls = [\"https://cdn.pydata.org/bokeh/release/bokeh-0.13.0.min.js\", \"https://cdn.pydata.org/bokeh/release/bokeh-widgets-0.13.0.min.js\", \"https://cdn.pydata.org/bokeh/release/bokeh-tables-0.13.0.min.js\", \"https://cdn.pydata.org/bokeh/release/bokeh-gl-0.13.0.min.js\"];\n\n  var inline_js = [\n    function(Bokeh) {\n      Bokeh.set_log_level(\"info\");\n    },\n    \n    function(Bokeh) {\n      \n    },\n    function(Bokeh) {\n      console.log(\"Bokeh: injecting CSS: https://cdn.pydata.org/bokeh/release/bokeh-0.13.0.min.css\");\n      Bokeh.embed.inject_css(\"https://cdn.pydata.org/bokeh/release/bokeh-0.13.0.min.css\");\n      console.log(\"Bokeh: injecting CSS: https://cdn.pydata.org/bokeh/release/bokeh-widgets-0.13.0.min.css\");\n      Bokeh.embed.inject_css(\"https://cdn.pydata.org/bokeh/release/bokeh-widgets-0.13.0.min.css\");\n      console.log(\"Bokeh: injecting CSS: https://cdn.pydata.org/bokeh/release/bokeh-tables-0.13.0.min.css\");\n      Bokeh.embed.inject_css(\"https://cdn.pydata.org/bokeh/release/bokeh-tables-0.13.0.min.css\");\n    }\n  ];\n\n  function run_inline_js() {\n    \n    if ((root.Bokeh !== undefined) || (force === true)) {\n      for (var i = 0; i < inline_js.length; i++) {\n        inline_js[i].call(root, root.Bokeh);\n      }if (force === true) {\n        display_loaded();\n      }} else if (Date.now() < root._bokeh_timeout) {\n      setTimeout(run_inline_js, 100);\n    } else if (!root._bokeh_failed_load) {\n      console.log(\"Bokeh: BokehJS failed to load within specified timeout.\");\n      root._bokeh_failed_load = true;\n    } else if (force !== true) {\n      var cell = $(document.getElementById(\"67066ddf-f18b-43b9-b693-10e33a61c084\")).parents('.cell').data().cell;\n      cell.output_area.append_execute_result(NB_LOAD_WARNING)\n    }\n\n  }\n\n  if (root._bokeh_is_loading === 0) {\n    console.log(\"Bokeh: BokehJS loaded, going straight to plotting\");\n    run_inline_js();\n  } else {\n    load_libs(js_urls, function() {\n      console.log(\"Bokeh: BokehJS plotting callback run at\", now());\n      run_inline_js();\n    });\n  }\n}(window));"
     },
     "metadata": {},
     "output_type": "display_data"
    }
   ],
   "source": [
    "from bokeh.io import output_notebook\n",
    "output_notebook()"
   ]
  },
  {
   "cell_type": "markdown",
   "metadata": {},
   "source": [
    "2. JupyterLab\n",
    "\n",
    "We'll install “jupyterlab_bokeh” JupyterLab extension to embed Bokeh plots inside the JupyterLab notebook. This can be done by running below command."
   ]
  },
  {
   "cell_type": "code",
   "execution_count": 2,
   "metadata": {},
   "outputs": [],
   "source": [
    "#!jupyter labextension install jupyterlab_bokeh"
   ]
  },
  {
   "cell_type": "markdown",
   "metadata": {},
   "source": [
    "3. Interactors\n",
    "\n",
    "We can see interactive plots using the Jupyter notebook widgets (or interactors)."
   ]
  },
  {
   "cell_type": "code",
   "execution_count": 3,
   "metadata": {},
   "outputs": [],
   "source": [
    "from ipywidgets import interact"
   ]
  },
  {
   "cell_type": "code",
   "execution_count": 4,
   "metadata": {},
   "outputs": [],
   "source": [
    "# Install extension (only for JupyterLab users)\n",
    "\n",
    "#!jupyter labextension install @jupyter-widgets/jupyterlab-manager"
   ]
  },
  {
   "cell_type": "markdown",
   "metadata": {},
   "source": [
    "## Importing and Exploring Data"
   ]
  },
  {
   "cell_type": "markdown",
   "metadata": {},
   "source": [
    "We'll use _Gapminder_ data in this Notebook."
   ]
  },
  {
   "cell_type": "code",
   "execution_count": 5,
   "metadata": {},
   "outputs": [],
   "source": [
    "import pandas as pd\n",
    "import matplotlib.pyplot as plt"
   ]
  },
  {
   "cell_type": "code",
   "execution_count": 6,
   "metadata": {},
   "outputs": [
    {
     "name": "stdout",
     "output_type": "stream",
     "text": [
      "<class 'pandas.core.frame.DataFrame'>\n",
      "RangeIndex: 10111 entries, 0 to 10110\n",
      "Data columns (total 8 columns):\n",
      "Country            10111 non-null object\n",
      "Year               10111 non-null int64\n",
      "fertility          10100 non-null float64\n",
      "life               10111 non-null float64\n",
      "population         10108 non-null float64\n",
      "child_mortality    9210 non-null float64\n",
      "gdp                9000 non-null float64\n",
      "region             10111 non-null object\n",
      "dtypes: float64(5), int64(1), object(2)\n",
      "memory usage: 632.0+ KB\n"
     ]
    }
   ],
   "source": [
    "# Read in the csv file\n",
    "df = pd.read_csv('data/gapminder.csv')\n",
    "# Print the info\n",
    "df.info()"
   ]
  },
  {
   "cell_type": "code",
   "execution_count": 7,
   "metadata": {},
   "outputs": [
    {
     "data": {
      "text/html": [
       "<div>\n",
       "<style scoped>\n",
       "    .dataframe tbody tr th:only-of-type {\n",
       "        vertical-align: middle;\n",
       "    }\n",
       "\n",
       "    .dataframe tbody tr th {\n",
       "        vertical-align: top;\n",
       "    }\n",
       "\n",
       "    .dataframe thead th {\n",
       "        text-align: right;\n",
       "    }\n",
       "</style>\n",
       "<table border=\"1\" class=\"dataframe\">\n",
       "  <thead>\n",
       "    <tr style=\"text-align: right;\">\n",
       "      <th></th>\n",
       "      <th>Country</th>\n",
       "      <th>Year</th>\n",
       "      <th>fertility</th>\n",
       "      <th>life</th>\n",
       "      <th>population</th>\n",
       "      <th>child_mortality</th>\n",
       "      <th>gdp</th>\n",
       "      <th>region</th>\n",
       "    </tr>\n",
       "  </thead>\n",
       "  <tbody>\n",
       "    <tr>\n",
       "      <th>5060</th>\n",
       "      <td>Lesotho</td>\n",
       "      <td>1974</td>\n",
       "      <td>5.780</td>\n",
       "      <td>50.418</td>\n",
       "      <td>1123261.0</td>\n",
       "      <td>158.80</td>\n",
       "      <td>984.0</td>\n",
       "      <td>Sub-Saharan Africa</td>\n",
       "    </tr>\n",
       "    <tr>\n",
       "      <th>3917</th>\n",
       "      <td>Hong Kong, China</td>\n",
       "      <td>1981</td>\n",
       "      <td>1.850</td>\n",
       "      <td>75.215</td>\n",
       "      <td>5151920.0</td>\n",
       "      <td>13.93</td>\n",
       "      <td>17086.0</td>\n",
       "      <td>East Asia &amp; Pacific</td>\n",
       "    </tr>\n",
       "    <tr>\n",
       "      <th>528</th>\n",
       "      <td>Azerbaijan</td>\n",
       "      <td>1992</td>\n",
       "      <td>2.883</td>\n",
       "      <td>64.245</td>\n",
       "      <td>7445925.0</td>\n",
       "      <td>95.40</td>\n",
       "      <td>6346.0</td>\n",
       "      <td>Europe &amp; Central Asia</td>\n",
       "    </tr>\n",
       "  </tbody>\n",
       "</table>\n",
       "</div>"
      ],
      "text/plain": [
       "               Country  Year  fertility    life  population  child_mortality  \\\n",
       "5060           Lesotho  1974      5.780  50.418   1123261.0           158.80   \n",
       "3917  Hong Kong, China  1981      1.850  75.215   5151920.0            13.93   \n",
       "528         Azerbaijan  1992      2.883  64.245   7445925.0            95.40   \n",
       "\n",
       "          gdp                 region  \n",
       "5060    984.0     Sub-Saharan Africa  \n",
       "3917  17086.0    East Asia & Pacific  \n",
       "528    6346.0  Europe & Central Asia  "
      ]
     },
     "execution_count": 7,
     "metadata": {},
     "output_type": "execute_result"
    }
   ],
   "source": [
    "df.sample(3)"
   ]
  },
  {
   "cell_type": "code",
   "execution_count": 8,
   "metadata": {},
   "outputs": [],
   "source": [
    "#  Remove rows where 'any' of the columns contains missing data\n",
    "# df.dropna(how='any', inplace=True)\n",
    "# df.shape"
   ]
  },
  {
   "cell_type": "code",
   "execution_count": 9,
   "metadata": {},
   "outputs": [
    {
     "data": {
      "text/html": [
       "<div>\n",
       "<style scoped>\n",
       "    .dataframe tbody tr th:only-of-type {\n",
       "        vertical-align: middle;\n",
       "    }\n",
       "\n",
       "    .dataframe tbody tr th {\n",
       "        vertical-align: top;\n",
       "    }\n",
       "\n",
       "    .dataframe thead th {\n",
       "        text-align: right;\n",
       "    }\n",
       "</style>\n",
       "<table border=\"1\" class=\"dataframe\">\n",
       "  <thead>\n",
       "    <tr style=\"text-align: right;\">\n",
       "      <th></th>\n",
       "      <th>Country</th>\n",
       "      <th>fertility</th>\n",
       "      <th>life</th>\n",
       "      <th>population</th>\n",
       "      <th>child_mortality</th>\n",
       "      <th>gdp</th>\n",
       "      <th>region</th>\n",
       "    </tr>\n",
       "    <tr>\n",
       "      <th>Year</th>\n",
       "      <th></th>\n",
       "      <th></th>\n",
       "      <th></th>\n",
       "      <th></th>\n",
       "      <th></th>\n",
       "      <th></th>\n",
       "      <th></th>\n",
       "    </tr>\n",
       "  </thead>\n",
       "  <tbody>\n",
       "    <tr>\n",
       "      <th>1964</th>\n",
       "      <td>Afghanistan</td>\n",
       "      <td>7.671</td>\n",
       "      <td>33.639</td>\n",
       "      <td>10474903.0</td>\n",
       "      <td>339.7</td>\n",
       "      <td>1182.0</td>\n",
       "      <td>South Asia</td>\n",
       "    </tr>\n",
       "    <tr>\n",
       "      <th>1965</th>\n",
       "      <td>Afghanistan</td>\n",
       "      <td>7.671</td>\n",
       "      <td>34.152</td>\n",
       "      <td>10697983.0</td>\n",
       "      <td>334.1</td>\n",
       "      <td>1182.0</td>\n",
       "      <td>South Asia</td>\n",
       "    </tr>\n",
       "    <tr>\n",
       "      <th>1966</th>\n",
       "      <td>Afghanistan</td>\n",
       "      <td>7.671</td>\n",
       "      <td>34.662</td>\n",
       "      <td>10927724.0</td>\n",
       "      <td>328.7</td>\n",
       "      <td>1168.0</td>\n",
       "      <td>South Asia</td>\n",
       "    </tr>\n",
       "  </tbody>\n",
       "</table>\n",
       "</div>"
      ],
      "text/plain": [
       "          Country  fertility    life  population  child_mortality     gdp  \\\n",
       "Year                                                                        \n",
       "1964  Afghanistan      7.671  33.639  10474903.0            339.7  1182.0   \n",
       "1965  Afghanistan      7.671  34.152  10697983.0            334.1  1182.0   \n",
       "1966  Afghanistan      7.671  34.662  10927724.0            328.7  1168.0   \n",
       "\n",
       "          region  \n",
       "Year              \n",
       "1964  South Asia  \n",
       "1965  South Asia  \n",
       "1966  South Asia  "
      ]
     },
     "execution_count": 9,
     "metadata": {},
     "output_type": "execute_result"
    }
   ],
   "source": [
    "# Set index to 'Year'\n",
    "df.set_index('Year', inplace=True)\n",
    "df.head(3)"
   ]
  },
  {
   "cell_type": "markdown",
   "metadata": {},
   "source": [
    "## Interactive Visualization"
   ]
  },
  {
   "cell_type": "markdown",
   "metadata": {},
   "source": [
    "We'll focus on the fertility, life and Country columns of the dataset."
   ]
  },
  {
   "cell_type": "code",
   "execution_count": 10,
   "metadata": {},
   "outputs": [],
   "source": [
    "# Import necessary modules\n",
    "from bokeh.io import output_file, show\n",
    "from bokeh.plotting import figure\n",
    "from bokeh.models import HoverTool, ColumnDataSource\n",
    "\n",
    "from bokeh.io import curdoc\n",
    "\n",
    "from bokeh.layouts import widgetbox, row\n",
    "from bokeh.models import Slider\n",
    "\n",
    "from bokeh.io import push_notebook"
   ]
  },
  {
   "cell_type": "markdown",
   "metadata": {},
   "source": [
    "`ColumnDataSource`, a table-like object, is the most important data structure in Bokeh. We'll create a ColumnDataSource from our DataFrame to use with Bokeh."
   ]
  },
  {
   "cell_type": "code",
   "execution_count": 11,
   "metadata": {},
   "outputs": [],
   "source": [
    "# Create a ColumnDataSource from df\n",
    "# source = ColumnDataSource(df)"
   ]
  },
  {
   "cell_type": "code",
   "execution_count": 12,
   "metadata": {},
   "outputs": [],
   "source": [
    "# Make the ColumnDataSource\n",
    "source = ColumnDataSource(data={\n",
    "    'x' : df.loc[1984].fertility,\n",
    "    'y' : df.loc[1984].life,\n",
    "    'country' : df.loc[1984].Country,\n",
    "    'pop' : (df.loc[1984].population / 20000000) + 2,\n",
    "    'region' : df.loc[1984].region,\n",
    "})"
   ]
  },
  {
   "cell_type": "code",
   "execution_count": 13,
   "metadata": {},
   "outputs": [],
   "source": [
    "# Save the minimum and maximum values of the fertility column: xmin, xmax\n",
    "xmin, xmax = min(df.fertility), max(df.fertility)\n",
    "\n",
    "# Save the minimum and maximum values of the life expectancy column: ymin, ymax\n",
    "ymin, ymax = min(df.life), max(df.life)\n",
    "\n",
    "# Create the figure: plot\n",
    "plot = figure(title='Gapminder Data for 1970', plot_height=400, plot_width=700, x_range=(xmin, xmax), y_range=(ymin, ymax))\n",
    "\n",
    "# Add circle glyphs to the plot\n",
    "plot.circle(x='x', y='y', fill_alpha=0.8, source=source)\n",
    "\n",
    "# Set the x-axis label\n",
    "plot.xaxis.axis_label ='Fertility (children per woman)'\n",
    "\n",
    "# Set the y-axis label\n",
    "plot.yaxis.axis_label = 'Life Expectancy (years)'\n",
    "\n",
    "# Add the plot to the current document and add a title\n",
    "curdoc().add_root(plot)\n",
    "curdoc().title = 'Gapminder'"
   ]
  },
  {
   "cell_type": "code",
   "execution_count": 21,
   "metadata": {},
   "outputs": [],
   "source": [
    "# Define the callback function\n",
    "def update(year):\n",
    "    # Assign the value of the slider\n",
    "    yr = year\n",
    "    # Set new_data\n",
    "    new_data = {\n",
    "        'x'       : df.loc[yr].fertility,\n",
    "        'y'       : df.loc[yr].life,\n",
    "        'country' : df.loc[yr].Country,\n",
    "        'pop'     : (df.loc[yr].population / 20000000) + 2,\n",
    "        'region'  : df.loc[yr].region,\n",
    "    }\n",
    "    # Assign new_data to the source\n",
    "    source.data = new_data\n",
    "\n",
    "    # Add title to figure\n",
    "    plot.title.text = 'Gapminder data for %d' % year\n",
    "\n",
    "    push_notebook()"
   ]
  },
  {
   "cell_type": "code",
   "execution_count": 22,
   "metadata": {},
   "outputs": [
    {
     "data": {
      "text/html": [
       "\n",
       "\n",
       "\n",
       "\n",
       "\n",
       "\n",
       "  <div class=\"bk-root\" id=\"bd14bd59-a378-48f0-9570-ba1d13e1f4bc\"></div>\n"
      ]
     },
     "metadata": {},
     "output_type": "display_data"
    },
    {
     "data": {
      "application/javascript": [
       "(function(root) {\n",
       "  function embed_document(root) {\n",
       "    \n",
       "  var docs_json = {\"3478820a-37a9-4f23-96e8-5418d8fc9cc2\":{\"roots\":{\"references\":[{\"attributes\":{\"fill_alpha\":{\"value\":0.1},\"fill_color\":{\"value\":\"#1f77b4\"},\"line_alpha\":{\"value\":0.1},\"line_color\":{\"value\":\"#1f77b4\"},\"x\":{\"field\":\"x\"},\"y\":{\"field\":\"y\"}},\"id\":\"011dcb26-996d-4cf2-b48a-cb0622efa860\",\"type\":\"Circle\"},{\"attributes\":{\"below\":[{\"id\":\"ef0f4ca4-c0ce-4bd1-98a7-bf096869c271\",\"type\":\"LinearAxis\"}],\"left\":[{\"id\":\"44e53f05-0e26-4362-b523-5068de72afb2\",\"type\":\"LinearAxis\"}],\"plot_height\":400,\"plot_width\":700,\"renderers\":[{\"id\":\"ef0f4ca4-c0ce-4bd1-98a7-bf096869c271\",\"type\":\"LinearAxis\"},{\"id\":\"d29da212-5479-4555-8274-a062f5081650\",\"type\":\"Grid\"},{\"id\":\"44e53f05-0e26-4362-b523-5068de72afb2\",\"type\":\"LinearAxis\"},{\"id\":\"e25d043a-2478-4641-b730-356af02665e7\",\"type\":\"Grid\"},{\"id\":\"7e8bfde7-4dec-46c6-a4c4-936ff20adaa0\",\"type\":\"BoxAnnotation\"},{\"id\":\"3a498a58-6a65-433b-a1e0-fab1b1b32363\",\"type\":\"GlyphRenderer\"}],\"title\":{\"id\":\"99d4cd41-11c1-403b-a75e-8d747b8ff349\",\"type\":\"Title\"},\"toolbar\":{\"id\":\"3fda9a30-9486-4d60-89f9-f92ffebc4088\",\"type\":\"Toolbar\"},\"x_range\":{\"id\":\"9248c12b-b45c-434f-a505-458c51a0d45b\",\"type\":\"Range1d\"},\"x_scale\":{\"id\":\"b1a70036-d445-4c6e-8898-7010eb237fa6\",\"type\":\"LinearScale\"},\"y_range\":{\"id\":\"c79be345-0cf4-48e5-8fba-9289744bb880\",\"type\":\"Range1d\"},\"y_scale\":{\"id\":\"bfa37f39-116d-454e-8a71-420bd6cfee1a\",\"type\":\"LinearScale\"}},\"id\":\"60d2bf2f-d211-4c1f-ab5d-5dc9d79fcc49\",\"subtype\":\"Figure\",\"type\":\"Plot\"},{\"attributes\":{},\"id\":\"6dc9eb5c-d1e1-4f3b-98ac-36e35970cad2\",\"type\":\"PanTool\"},{\"attributes\":{},\"id\":\"bfa37f39-116d-454e-8a71-420bd6cfee1a\",\"type\":\"LinearScale\"},{\"attributes\":{},\"id\":\"ad6cb3dd-ea22-4e6f-b6cc-e6cf95a04719\",\"type\":\"BasicTickFormatter\"},{\"attributes\":{},\"id\":\"43ec7dc0-ddcf-4c4b-a357-8c42f090d913\",\"type\":\"Selection\"},{\"attributes\":{\"callback\":null,\"end\":83.58,\"start\":6.0},\"id\":\"c79be345-0cf4-48e5-8fba-9289744bb880\",\"type\":\"Range1d\"},{\"attributes\":{\"overlay\":{\"id\":\"7e8bfde7-4dec-46c6-a4c4-936ff20adaa0\",\"type\":\"BoxAnnotation\"}},\"id\":\"82c46e67-428a-4102-9765-5bff46391283\",\"type\":\"BoxZoomTool\"},{\"attributes\":{},\"id\":\"1d50348f-1976-45d8-8520-2ce4c5b56001\",\"type\":\"ResetTool\"},{\"attributes\":{},\"id\":\"a441c7fb-adae-46ac-9824-a400f0f3555b\",\"type\":\"WheelZoomTool\"},{\"attributes\":{\"callback\":null,\"data\":{\"country\":[\"Afghanistan\",\"Albania\",\"Algeria\",\"Angola\",\"Antigua and Barbuda\",\"Argentina\",\"Armenia\",\"Aruba\",\"Australia\",\"Austria\",\"Azerbaijan\",\"Bahamas\",\"Bahrain\",\"Bangladesh\",\"Barbados\",\"Belarus\",\"Belgium\",\"Belize\",\"Benin\",\"Bhutan\",\"Bolivia\",\"Bosnia and Herzegovina\",\"Botswana\",\"Brazil\",\"Brunei\",\"Bulgaria\",\"Burkina Faso\",\"Burundi\",\"Cambodia\",\"Cameroon\",\"Canada\",\"Cape Verde\",\"Central African Rep.\",\"Chad\",\"Channel Islands\",\"Chile\",\"China\",\"Colombia\",\"Comoros\",\"Congo, Dem. Rep.\",\"Congo, Rep.\",\"Costa Rica\",\"Cote d'Ivoire\",\"Croatia\",\"Cuba\",\"Cyprus\",\"Czech Rep.\",\"Denmark\",\"Djibouti\",\"Dominican Rep.\",\"Ecuador\",\"Egypt\",\"El Salvador\",\"Equatorial Guinea\",\"Eritrea\",\"Estonia\",\"Ethiopia\",\"Fiji\",\"Finland\",\"France\",\"French Guiana\",\"French Polynesia\",\"Gabon\",\"Gambia\",\"Georgia\",\"Germany\",\"Ghana\",\"Greece\",\"Greenland\",\"Grenada\",\"Guadeloupe\",\"Guam\",\"Guatemala\",\"Guinea\",\"Guinea-Bissau\",\"Guyana\",\"Haiti\",\"Honduras\",\"Hong Kong, China\",\"Hungary\",\"Iceland\",\"India\",\"Indonesia\",\"Iran\",\"Iraq\",\"Ireland\",\"Israel\",\"Italy\",\"Jamaica\",\"Japan\",\"Jordan\",\"Kazakhstan\",\"Kenya\",\"Kiribati\",\"Korea, Dem. Rep.\",\"Korea, Rep.\",\"Kuwait\",\"Kyrgyzstan\",\"Laos\",\"Latvia\",\"Lebanon\",\"Lesotho\",\"Liberia\",\"Libya\",\"Lithuania\",\"Luxembourg\",\"Macao, China\",\"Macedonia, FYR\",\"Madagascar\",\"Malawi\",\"Malaysia\",\"Maldives\",\"Mali\",\"Malta\",\"Martinique\",\"Mauritania\",\"Mauritius\",\"Mayotte\",\"Mexico\",\"Micronesia, Fed. Sts.\",\"Moldova\",\"Mongolia\",\"Montenegro\",\"Morocco\",\"Mozambique\",\"Myanmar\",\"Namibia\",\"Nepal\",\"Netherlands\",\"Netherlands Antilles\",\"New Caledonia\",\"New Zealand\",\"Nicaragua\",\"Niger\",\"Nigeria\",\"Norway\",\"Oman\",\"Pakistan\",\"Panama\",\"Papua New Guinea\",\"Paraguay\",\"Peru\",\"Philippines\",\"Poland\",\"Portugal\",\"Puerto Rico\",\"Qatar\",\"Reunion\",\"Romania\",\"Russia\",\"Rwanda\",\"Saint Lucia\",\"Saint Vincent and the Grenadines\",\"Samoa\",\"Sao Tome and Principe\",\"Saudi Arabia\",\"Senegal\",\"Serbia\",\"Seychelles\",\"Sierra Leone\",\"Singapore\",\"Slovak Republic\",\"Slovenia\",\"Solomon Islands\",\"Somalia\",\"South Africa\",\"South Sudan\",\"Spain\",\"Sri Lanka\",\"Sudan\",\"Suriname\",\"Swaziland\",\"Sweden\",\"Switzerland\",\"Syria\",\"Taiwan\",\"Tajikistan\",\"Tanzania\",\"Thailand\",\"Timor-Leste\",\"Togo\",\"Tonga\",\"Trinidad and Tobago\",\"Tunisia\",\"Turkey\",\"Turkmenistan\",\"Uganda\",\"Ukraine\",\"United Arab Emirates\",\"United Kingdom\",\"United States\",\"Uruguay\",\"Uzbekistan\",\"Vanuatu\",\"Venezuela\",\"Vietnam\",\"Virgin Islands (U.S.)\",\"West Bank and Gaza\",\"Western Sahara\",\"Yemen, Rep.\",\"Zambia\",\"Zimbabwe\"],\"pop\":{\"__ndarray__\":\"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\",\"dtype\":\"float64\",\"shape\":[202]},\"region\":[\"South Asia\",\"Europe & Central Asia\",\"Middle East & North Africa\",\"Sub-Saharan Africa\",\"America\",\"America\",\"Europe & Central Asia\",\"America\",\"East Asia & Pacific\",\"Europe & Central Asia\",\"Europe & Central Asia\",\"America\",\"Middle East & North Africa\",\"South Asia\",\"America\",\"Europe & Central Asia\",\"Europe & Central Asia\",\"America\",\"Sub-Saharan Africa\",\"South Asia\",\"America\",\"Europe & Central Asia\",\"Sub-Saharan Africa\",\"America\",\"East Asia & Pacific\",\"Europe & Central Asia\",\"Sub-Saharan Africa\",\"Sub-Saharan Africa\",\"East Asia & Pacific\",\"Sub-Saharan Africa\",\"America\",\"Sub-Saharan Africa\",\"Sub-Saharan Africa\",\"Sub-Saharan Africa\",\"Europe & Central Asia\",\"America\",\"East Asia & Pacific\",\"America\",\"Sub-Saharan Africa\",\"Sub-Saharan Africa\",\"Sub-Saharan Africa\",\"America\",\"Sub-Saharan Africa\",\"Europe & Central Asia\",\"America\",\"Europe & Central Asia\",\"Europe & Central Asia\",\"Europe & Central Asia\",\"Middle East & North Africa\",\"America\",\"America\",\"Middle East & North Africa\",\"America\",\"Sub-Saharan Africa\",\"Sub-Saharan Africa\",\"Europe & Central Asia\",\"Sub-Saharan Africa\",\"East Asia & Pacific\",\"Europe & Central Asia\",\"Europe & Central Asia\",\"America\",\"East Asia & Pacific\",\"Sub-Saharan Africa\",\"Sub-Saharan Africa\",\"Europe & Central Asia\",\"Europe & Central Asia\",\"Sub-Saharan Africa\",\"Europe & Central Asia\",\"Europe & Central Asia\",\"America\",\"America\",\"East Asia & Pacific\",\"America\",\"Sub-Saharan Africa\",\"Sub-Saharan Africa\",\"America\",\"America\",\"America\",\"East Asia & Pacific\",\"Europe & Central Asia\",\"Europe & Central Asia\",\"South Asia\",\"East Asia & Pacific\",\"Middle East & North Africa\",\"Middle East & North Africa\",\"Europe & Central Asia\",\"Middle East & North Africa\",\"Europe & Central Asia\",\"America\",\"East Asia & Pacific\",\"Middle East & North Africa\",\"Europe & Central Asia\",\"Sub-Saharan Africa\",\"East Asia & Pacific\",\"East Asia & Pacific\",\"East Asia & Pacific\",\"Middle East & North Africa\",\"Europe & Central Asia\",\"East Asia & Pacific\",\"Europe & Central Asia\",\"Middle East & North Africa\",\"Sub-Saharan Africa\",\"Sub-Saharan Africa\",\"Middle East & North Africa\",\"Europe & Central Asia\",\"Europe & Central Asia\",\"East Asia & Pacific\",\"Europe & Central Asia\",\"Sub-Saharan Africa\",\"Sub-Saharan Africa\",\"East Asia & Pacific\",\"South Asia\",\"Sub-Saharan Africa\",\"Europe & Central Asia\",\"America\",\"Sub-Saharan Africa\",\"Sub-Saharan Africa\",\"Sub-Saharan Africa\",\"America\",\"East Asia & Pacific\",\"Europe & Central Asia\",\"East Asia & Pacific\",\"Europe & Central Asia\",\"Middle East & North Africa\",\"Sub-Saharan Africa\",\"East Asia & Pacific\",\"Sub-Saharan Africa\",\"South Asia\",\"Europe & Central Asia\",\"America\",\"East Asia & Pacific\",\"East Asia & Pacific\",\"America\",\"Sub-Saharan Africa\",\"Sub-Saharan Africa\",\"Europe & Central Asia\",\"Middle East & North Africa\",\"South Asia\",\"America\",\"East Asia & Pacific\",\"America\",\"America\",\"East Asia & Pacific\",\"Europe & Central Asia\",\"Europe & Central Asia\",\"America\",\"Middle East & North Africa\",\"Sub-Saharan Africa\",\"Europe & Central Asia\",\"Europe & Central Asia\",\"Sub-Saharan Africa\",\"America\",\"America\",\"East Asia & Pacific\",\"Sub-Saharan Africa\",\"Middle East & North Africa\",\"Sub-Saharan Africa\",\"Europe & Central Asia\",\"Sub-Saharan Africa\",\"Sub-Saharan Africa\",\"East Asia & Pacific\",\"Europe & Central Asia\",\"Europe & Central Asia\",\"East Asia & Pacific\",\"Sub-Saharan Africa\",\"Sub-Saharan Africa\",\"Sub-Saharan Africa\",\"Europe & Central Asia\",\"South Asia\",\"Sub-Saharan Africa\",\"America\",\"Sub-Saharan Africa\",\"Europe & Central Asia\",\"Europe & Central Asia\",\"Middle East & North Africa\",\"East Asia & Pacific\",\"Europe & Central Asia\",\"Sub-Saharan Africa\",\"East Asia & Pacific\",\"East Asia & Pacific\",\"Sub-Saharan Africa\",\"East Asia & Pacific\",\"America\",\"Middle East & North Africa\",\"Europe & Central Asia\",\"Europe & Central Asia\",\"Sub-Saharan Africa\",\"Europe & Central Asia\",\"Middle East & North Africa\",\"Europe & Central Asia\",\"America\",\"America\",\"Europe & Central Asia\",\"East Asia & Pacific\",\"America\",\"East Asia & Pacific\",\"America\",\"Middle East & North Africa\",\"Middle East & North Africa\",\"Middle East & North Africa\",\"Sub-Saharan Africa\",\"Sub-Saharan Africa\"],\"x\":{\"__ndarray__\":\"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\",\"dtype\":\"float64\",\"shape\":[202]},\"y\":{\"__ndarray__\":\"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\",\"dtype\":\"float64\",\"shape\":[202]}},\"selected\":{\"id\":\"43ec7dc0-ddcf-4c4b-a357-8c42f090d913\",\"type\":\"Selection\"},\"selection_policy\":{\"id\":\"064c5335-f176-41e2-a50b-fec43db7c2f6\",\"type\":\"UnionRenderers\"}},\"id\":\"c3bebedb-ecfa-4f32-8ccc-49c8623f6728\",\"type\":\"ColumnDataSource\"},{\"attributes\":{},\"id\":\"c32173cc-1d90-4fb8-97ac-bef4bfe262a1\",\"type\":\"SaveTool\"},{\"attributes\":{\"data_source\":{\"id\":\"c3bebedb-ecfa-4f32-8ccc-49c8623f6728\",\"type\":\"ColumnDataSource\"},\"glyph\":{\"id\":\"ac587555-7261-4308-ae6c-f42abc999a6b\",\"type\":\"Circle\"},\"hover_glyph\":null,\"muted_glyph\":null,\"nonselection_glyph\":{\"id\":\"011dcb26-996d-4cf2-b48a-cb0622efa860\",\"type\":\"Circle\"},\"selection_glyph\":null,\"view\":{\"id\":\"f518464f-6ac5-42c1-95cb-108b9e0ee5e0\",\"type\":\"CDSView\"}},\"id\":\"3a498a58-6a65-433b-a1e0-fab1b1b32363\",\"type\":\"GlyphRenderer\"},{\"attributes\":{},\"id\":\"b7b81a42-d2cf-4eae-af9b-9d2c848c3e6f\",\"type\":\"HelpTool\"},{\"attributes\":{\"plot\":null,\"text\":\"Gapminder data for 1973\"},\"id\":\"99d4cd41-11c1-403b-a75e-8d747b8ff349\",\"type\":\"Title\"},{\"attributes\":{\"bottom_units\":\"screen\",\"fill_alpha\":{\"value\":0.5},\"fill_color\":{\"value\":\"lightgrey\"},\"left_units\":\"screen\",\"level\":\"overlay\",\"line_alpha\":{\"value\":1.0},\"line_color\":{\"value\":\"black\"},\"line_dash\":[4,4],\"line_width\":{\"value\":2},\"plot\":null,\"render_mode\":\"css\",\"right_units\":\"screen\",\"top_units\":\"screen\"},\"id\":\"7e8bfde7-4dec-46c6-a4c4-936ff20adaa0\",\"type\":\"BoxAnnotation\"},{\"attributes\":{\"source\":{\"id\":\"c3bebedb-ecfa-4f32-8ccc-49c8623f6728\",\"type\":\"ColumnDataSource\"}},\"id\":\"f518464f-6ac5-42c1-95cb-108b9e0ee5e0\",\"type\":\"CDSView\"},{\"attributes\":{\"active_drag\":\"auto\",\"active_inspect\":\"auto\",\"active_multi\":null,\"active_scroll\":\"auto\",\"active_tap\":\"auto\",\"tools\":[{\"id\":\"6dc9eb5c-d1e1-4f3b-98ac-36e35970cad2\",\"type\":\"PanTool\"},{\"id\":\"a441c7fb-adae-46ac-9824-a400f0f3555b\",\"type\":\"WheelZoomTool\"},{\"id\":\"82c46e67-428a-4102-9765-5bff46391283\",\"type\":\"BoxZoomTool\"},{\"id\":\"c32173cc-1d90-4fb8-97ac-bef4bfe262a1\",\"type\":\"SaveTool\"},{\"id\":\"1d50348f-1976-45d8-8520-2ce4c5b56001\",\"type\":\"ResetTool\"},{\"id\":\"b7b81a42-d2cf-4eae-af9b-9d2c848c3e6f\",\"type\":\"HelpTool\"}]},\"id\":\"3fda9a30-9486-4d60-89f9-f92ffebc4088\",\"type\":\"Toolbar\"},{\"attributes\":{},\"id\":\"064c5335-f176-41e2-a50b-fec43db7c2f6\",\"type\":\"UnionRenderers\"},{\"attributes\":{},\"id\":\"bc45fb1b-b8d6-4d70-88c1-fc85ae4e24d3\",\"type\":\"BasicTickFormatter\"},{\"attributes\":{\"fill_alpha\":{\"value\":0.8},\"fill_color\":{\"value\":\"#1f77b4\"},\"line_color\":{\"value\":\"#1f77b4\"},\"x\":{\"field\":\"x\"},\"y\":{\"field\":\"y\"}},\"id\":\"ac587555-7261-4308-ae6c-f42abc999a6b\",\"type\":\"Circle\"},{\"attributes\":{\"axis_label\":\"Fertility (children per woman)\",\"formatter\":{\"id\":\"ad6cb3dd-ea22-4e6f-b6cc-e6cf95a04719\",\"type\":\"BasicTickFormatter\"},\"plot\":{\"id\":\"60d2bf2f-d211-4c1f-ab5d-5dc9d79fcc49\",\"subtype\":\"Figure\",\"type\":\"Plot\"},\"ticker\":{\"id\":\"0bd94d5b-7644-4ac7-8b83-40769a57c0dd\",\"type\":\"BasicTicker\"}},\"id\":\"ef0f4ca4-c0ce-4bd1-98a7-bf096869c271\",\"type\":\"LinearAxis\"},{\"attributes\":{},\"id\":\"0bd94d5b-7644-4ac7-8b83-40769a57c0dd\",\"type\":\"BasicTicker\"},{\"attributes\":{\"plot\":{\"id\":\"60d2bf2f-d211-4c1f-ab5d-5dc9d79fcc49\",\"subtype\":\"Figure\",\"type\":\"Plot\"},\"ticker\":{\"id\":\"0bd94d5b-7644-4ac7-8b83-40769a57c0dd\",\"type\":\"BasicTicker\"}},\"id\":\"d29da212-5479-4555-8274-a062f5081650\",\"type\":\"Grid\"},{\"attributes\":{\"axis_label\":\"Life Expectancy (years)\",\"formatter\":{\"id\":\"bc45fb1b-b8d6-4d70-88c1-fc85ae4e24d3\",\"type\":\"BasicTickFormatter\"},\"plot\":{\"id\":\"60d2bf2f-d211-4c1f-ab5d-5dc9d79fcc49\",\"subtype\":\"Figure\",\"type\":\"Plot\"},\"ticker\":{\"id\":\"303826e9-5a08-433f-892b-4f9c51b9de40\",\"type\":\"BasicTicker\"}},\"id\":\"44e53f05-0e26-4362-b523-5068de72afb2\",\"type\":\"LinearAxis\"},{\"attributes\":{},\"id\":\"b1a70036-d445-4c6e-8898-7010eb237fa6\",\"type\":\"LinearScale\"},{\"attributes\":{},\"id\":\"303826e9-5a08-433f-892b-4f9c51b9de40\",\"type\":\"BasicTicker\"},{\"attributes\":{\"callback\":null,\"end\":9.223,\"start\":0.836},\"id\":\"9248c12b-b45c-434f-a505-458c51a0d45b\",\"type\":\"Range1d\"},{\"attributes\":{\"dimension\":1,\"plot\":{\"id\":\"60d2bf2f-d211-4c1f-ab5d-5dc9d79fcc49\",\"subtype\":\"Figure\",\"type\":\"Plot\"},\"ticker\":{\"id\":\"303826e9-5a08-433f-892b-4f9c51b9de40\",\"type\":\"BasicTicker\"}},\"id\":\"e25d043a-2478-4641-b730-356af02665e7\",\"type\":\"Grid\"}],\"root_ids\":[\"60d2bf2f-d211-4c1f-ab5d-5dc9d79fcc49\"]},\"title\":\"Bokeh Application\",\"version\":\"0.13.0\"}};\n",
       "  var render_items = [{\"docid\":\"3478820a-37a9-4f23-96e8-5418d8fc9cc2\",\"notebook_comms_target\":\"4b1b0cce-2e8b-4886-9419-a5fff18552a7\",\"roots\":{\"60d2bf2f-d211-4c1f-ab5d-5dc9d79fcc49\":\"bd14bd59-a378-48f0-9570-ba1d13e1f4bc\"}}];\n",
       "  root.Bokeh.embed.embed_items_notebook(docs_json, render_items);\n",
       "\n",
       "  }\n",
       "  if (root.Bokeh !== undefined) {\n",
       "    embed_document(root);\n",
       "  } else {\n",
       "    var attempts = 0;\n",
       "    var timer = setInterval(function(root) {\n",
       "      if (root.Bokeh !== undefined) {\n",
       "        embed_document(root);\n",
       "        clearInterval(timer);\n",
       "      }\n",
       "      attempts++;\n",
       "      if (attempts > 100) {\n",
       "        console.log(\"Bokeh: ERROR: Unable to run BokehJS code because BokehJS library is missing\")\n",
       "        clearInterval(timer);\n",
       "      }\n",
       "    }, 10, root)\n",
       "  }\n",
       "})(window);"
      ],
      "application/vnd.bokehjs_exec.v0+json": ""
     },
     "metadata": {
      "application/vnd.bokehjs_exec.v0+json": {
       "id": "60d2bf2f-d211-4c1f-ab5d-5dc9d79fcc49"
      }
     },
     "output_type": "display_data"
    },
    {
     "data": {
      "text/html": [
       "<p><code>&lt;Bokeh Notebook handle for <strong>In[22]</strong>&gt;</code></p>"
      ],
      "text/plain": [
       "<bokeh.io.notebook.CommsHandle at 0x10c334198>"
      ]
     },
     "execution_count": 22,
     "metadata": {},
     "output_type": "execute_result"
    }
   ],
   "source": [
    "show(plot, notebook_handle=True)"
   ]
  },
  {
   "cell_type": "code",
   "execution_count": 23,
   "metadata": {
    "scrolled": true
   },
   "outputs": [
    {
     "data": {
      "application/vnd.jupyter.widget-view+json": {
       "model_id": "17e079708b654bd1ac70a1a47e8e5358",
       "version_major": 2,
       "version_minor": 0
      },
      "text/plain": [
       "interactive(children=(IntSlider(value=1990, description='year', max=2010, min=1970), Output()), _dom_classes=(…"
      ]
     },
     "metadata": {},
     "output_type": "display_data"
    }
   ],
   "source": [
    "interact(update, year=(1970, 2010, 1));"
   ]
  },
  {
   "cell_type": "code",
   "execution_count": 14,
   "metadata": {},
   "outputs": [],
   "source": [
    "# Define the callback function\n",
    "def update_plot(attr, old, new):\n",
    "    # Assign the value of the slider\n",
    "    year = slider.value\n",
    "    # Set new_data\n",
    "    new_data = {\n",
    "        'x'       : df.loc[year].fertility,\n",
    "        'y'       : df.loc[year].life,\n",
    "        'country' : df.loc[year].Country,\n",
    "        'pop'     : (df.loc[year].population / 20000000) + 2,\n",
    "        'region'  : df.loc[year].region,\n",
    "    }\n",
    "    # Assign new_data to\n",
    "    source.data = new_data\n",
    "\n",
    "    # Add title to figure\n",
    "    plot.title.text = 'Gapminder data for %d' % year\n",
    "\n",
    "    push_notebook()  \n",
    "# Create a slider object\n",
    "slider = Slider(start=1970, end=2010, step=1, value=1970, title='Year')\n",
    "\n",
    "# Attach the callback to the 'value' property of slider\n",
    "slider.on_change('value', update_plot)\n",
    "\n",
    "# Make a row layout of widgetbox(slider) and plot and add it to the current document\n",
    "layout = row(widgetbox(slider), plot)\n",
    "curdoc().add_root(layout)"
   ]
  },
  {
   "cell_type": "code",
   "execution_count": 15,
   "metadata": {},
   "outputs": [
    {
     "data": {
      "text/html": [
       "\n",
       "\n",
       "\n",
       "\n",
       "\n",
       "\n",
       "  <div class=\"bk-root\" id=\"76558297-ffff-4a8e-b1ed-d490203efc5f\"></div>\n"
      ]
     },
     "metadata": {},
     "output_type": "display_data"
    },
    {
     "data": {
      "application/javascript": [
       "(function(root) {\n",
       "  function embed_document(root) {\n",
       "    \n",
       "  var docs_json = {\"041d6b51-7ab8-41b7-9f34-37ed05a2b778\":{\"roots\":{\"references\":[{\"attributes\":{\"fill_alpha\":{\"value\":0.1},\"fill_color\":{\"value\":\"#1f77b4\"},\"line_alpha\":{\"value\":0.1},\"line_color\":{\"value\":\"#1f77b4\"},\"x\":{\"field\":\"x\"},\"y\":{\"field\":\"y\"}},\"id\":\"011dcb26-996d-4cf2-b48a-cb0622efa860\",\"type\":\"Circle\"},{\"attributes\":{\"below\":[{\"id\":\"ef0f4ca4-c0ce-4bd1-98a7-bf096869c271\",\"type\":\"LinearAxis\"}],\"left\":[{\"id\":\"44e53f05-0e26-4362-b523-5068de72afb2\",\"type\":\"LinearAxis\"}],\"plot_height\":400,\"plot_width\":700,\"renderers\":[{\"id\":\"ef0f4ca4-c0ce-4bd1-98a7-bf096869c271\",\"type\":\"LinearAxis\"},{\"id\":\"d29da212-5479-4555-8274-a062f5081650\",\"type\":\"Grid\"},{\"id\":\"44e53f05-0e26-4362-b523-5068de72afb2\",\"type\":\"LinearAxis\"},{\"id\":\"e25d043a-2478-4641-b730-356af02665e7\",\"type\":\"Grid\"},{\"id\":\"7e8bfde7-4dec-46c6-a4c4-936ff20adaa0\",\"type\":\"BoxAnnotation\"},{\"id\":\"3a498a58-6a65-433b-a1e0-fab1b1b32363\",\"type\":\"GlyphRenderer\"}],\"title\":{\"id\":\"99d4cd41-11c1-403b-a75e-8d747b8ff349\",\"type\":\"Title\"},\"toolbar\":{\"id\":\"3fda9a30-9486-4d60-89f9-f92ffebc4088\",\"type\":\"Toolbar\"},\"x_range\":{\"id\":\"9248c12b-b45c-434f-a505-458c51a0d45b\",\"type\":\"Range1d\"},\"x_scale\":{\"id\":\"b1a70036-d445-4c6e-8898-7010eb237fa6\",\"type\":\"LinearScale\"},\"y_range\":{\"id\":\"c79be345-0cf4-48e5-8fba-9289744bb880\",\"type\":\"Range1d\"},\"y_scale\":{\"id\":\"bfa37f39-116d-454e-8a71-420bd6cfee1a\",\"type\":\"LinearScale\"}},\"id\":\"60d2bf2f-d211-4c1f-ab5d-5dc9d79fcc49\",\"subtype\":\"Figure\",\"type\":\"Plot\"},{\"attributes\":{},\"id\":\"6dc9eb5c-d1e1-4f3b-98ac-36e35970cad2\",\"type\":\"PanTool\"},{\"attributes\":{},\"id\":\"bfa37f39-116d-454e-8a71-420bd6cfee1a\",\"type\":\"LinearScale\"},{\"attributes\":{},\"id\":\"ad6cb3dd-ea22-4e6f-b6cc-e6cf95a04719\",\"type\":\"BasicTickFormatter\"},{\"attributes\":{},\"id\":\"43ec7dc0-ddcf-4c4b-a357-8c42f090d913\",\"type\":\"Selection\"},{\"attributes\":{\"callback\":null,\"end\":83.58,\"start\":6.0},\"id\":\"c79be345-0cf4-48e5-8fba-9289744bb880\",\"type\":\"Range1d\"},{\"attributes\":{\"overlay\":{\"id\":\"7e8bfde7-4dec-46c6-a4c4-936ff20adaa0\",\"type\":\"BoxAnnotation\"}},\"id\":\"82c46e67-428a-4102-9765-5bff46391283\",\"type\":\"BoxZoomTool\"},{\"attributes\":{},\"id\":\"1d50348f-1976-45d8-8520-2ce4c5b56001\",\"type\":\"ResetTool\"},{\"attributes\":{},\"id\":\"a441c7fb-adae-46ac-9824-a400f0f3555b\",\"type\":\"WheelZoomTool\"},{\"attributes\":{\"callback\":null,\"data\":{\"country\":[\"Afghanistan\",\"Albania\",\"Algeria\",\"Angola\",\"Antigua and Barbuda\",\"Argentina\",\"Armenia\",\"Aruba\",\"Australia\",\"Austria\",\"Azerbaijan\",\"Bahamas\",\"Bahrain\",\"Bangladesh\",\"Barbados\",\"Belarus\",\"Belgium\",\"Belize\",\"Benin\",\"Bhutan\",\"Bolivia\",\"Bosnia and Herzegovina\",\"Botswana\",\"Brazil\",\"Brunei\",\"Bulgaria\",\"Burkina Faso\",\"Burundi\",\"Cambodia\",\"Cameroon\",\"Canada\",\"Cape Verde\",\"Central African Rep.\",\"Chad\",\"Channel Islands\",\"Chile\",\"China\",\"Colombia\",\"Comoros\",\"Congo, Dem. Rep.\",\"Congo, Rep.\",\"Costa Rica\",\"Cote d'Ivoire\",\"Croatia\",\"Cuba\",\"Cyprus\",\"Czech Rep.\",\"Denmark\",\"Djibouti\",\"Dominican Rep.\",\"Ecuador\",\"Egypt\",\"El Salvador\",\"Equatorial Guinea\",\"Eritrea\",\"Estonia\",\"Ethiopia\",\"Fiji\",\"Finland\",\"France\",\"French Guiana\",\"French Polynesia\",\"Gabon\",\"Gambia\",\"Georgia\",\"Germany\",\"Ghana\",\"Greece\",\"Greenland\",\"Grenada\",\"Guadeloupe\",\"Guam\",\"Guatemala\",\"Guinea\",\"Guinea-Bissau\",\"Guyana\",\"Haiti\",\"Honduras\",\"Hong Kong, China\",\"Hungary\",\"Iceland\",\"India\",\"Indonesia\",\"Iran\",\"Iraq\",\"Ireland\",\"Israel\",\"Italy\",\"Jamaica\",\"Japan\",\"Jordan\",\"Kazakhstan\",\"Kenya\",\"Kiribati\",\"Korea, Dem. Rep.\",\"Korea, Rep.\",\"Kuwait\",\"Kyrgyzstan\",\"Laos\",\"Latvia\",\"Lebanon\",\"Lesotho\",\"Liberia\",\"Libya\",\"Lithuania\",\"Luxembourg\",\"Macao, China\",\"Macedonia, FYR\",\"Madagascar\",\"Malawi\",\"Malaysia\",\"Maldives\",\"Mali\",\"Malta\",\"Martinique\",\"Mauritania\",\"Mauritius\",\"Mayotte\",\"Mexico\",\"Micronesia, Fed. Sts.\",\"Moldova\",\"Mongolia\",\"Montenegro\",\"Morocco\",\"Mozambique\",\"Myanmar\",\"Namibia\",\"Nepal\",\"Netherlands\",\"Netherlands Antilles\",\"New Caledonia\",\"New Zealand\",\"Nicaragua\",\"Niger\",\"Nigeria\",\"Norway\",\"Oman\",\"Pakistan\",\"Panama\",\"Papua New Guinea\",\"Paraguay\",\"Peru\",\"Philippines\",\"Poland\",\"Portugal\",\"Puerto Rico\",\"Qatar\",\"Reunion\",\"Romania\",\"Russia\",\"Rwanda\",\"Saint Lucia\",\"Saint Vincent and the Grenadines\",\"Samoa\",\"Sao Tome and Principe\",\"Saudi Arabia\",\"Senegal\",\"Serbia\",\"Seychelles\",\"Sierra Leone\",\"Singapore\",\"Slovak Republic\",\"Slovenia\",\"Solomon Islands\",\"Somalia\",\"South Africa\",\"South Sudan\",\"Spain\",\"Sri Lanka\",\"Sudan\",\"Suriname\",\"Swaziland\",\"Sweden\",\"Switzerland\",\"Syria\",\"Taiwan\",\"Tajikistan\",\"Tanzania\",\"Thailand\",\"Timor-Leste\",\"Togo\",\"Tonga\",\"Trinidad and Tobago\",\"Tunisia\",\"Turkey\",\"Turkmenistan\",\"Uganda\",\"Ukraine\",\"United Arab Emirates\",\"United Kingdom\",\"United States\",\"Uruguay\",\"Uzbekistan\",\"Vanuatu\",\"Venezuela\",\"Vietnam\",\"Virgin Islands (U.S.)\",\"West Bank and Gaza\",\"Western Sahara\",\"Yemen, Rep.\",\"Zambia\",\"Zimbabwe\"],\"pop\":{\"__ndarray__\":\"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\",\"dtype\":\"float64\",\"shape\":[202]},\"region\":[\"South Asia\",\"Europe & Central Asia\",\"Middle East & North Africa\",\"Sub-Saharan Africa\",\"America\",\"America\",\"Europe & Central Asia\",\"America\",\"East Asia & Pacific\",\"Europe & Central Asia\",\"Europe & Central Asia\",\"America\",\"Middle East & North Africa\",\"South Asia\",\"America\",\"Europe & Central Asia\",\"Europe & Central Asia\",\"America\",\"Sub-Saharan Africa\",\"South Asia\",\"America\",\"Europe & Central Asia\",\"Sub-Saharan Africa\",\"America\",\"East Asia & Pacific\",\"Europe & Central Asia\",\"Sub-Saharan Africa\",\"Sub-Saharan Africa\",\"East Asia & Pacific\",\"Sub-Saharan Africa\",\"America\",\"Sub-Saharan Africa\",\"Sub-Saharan Africa\",\"Sub-Saharan Africa\",\"Europe & Central Asia\",\"America\",\"East Asia & Pacific\",\"America\",\"Sub-Saharan Africa\",\"Sub-Saharan Africa\",\"Sub-Saharan Africa\",\"America\",\"Sub-Saharan Africa\",\"Europe & Central Asia\",\"America\",\"Europe & Central Asia\",\"Europe & Central Asia\",\"Europe & Central Asia\",\"Middle East & North Africa\",\"America\",\"America\",\"Middle East & North Africa\",\"America\",\"Sub-Saharan Africa\",\"Sub-Saharan Africa\",\"Europe & Central Asia\",\"Sub-Saharan Africa\",\"East Asia & Pacific\",\"Europe & Central Asia\",\"Europe & Central Asia\",\"America\",\"East Asia & Pacific\",\"Sub-Saharan Africa\",\"Sub-Saharan Africa\",\"Europe & Central Asia\",\"Europe & Central Asia\",\"Sub-Saharan Africa\",\"Europe & Central Asia\",\"Europe & Central Asia\",\"America\",\"America\",\"East Asia & Pacific\",\"America\",\"Sub-Saharan Africa\",\"Sub-Saharan Africa\",\"America\",\"America\",\"America\",\"East Asia & Pacific\",\"Europe & Central Asia\",\"Europe & Central Asia\",\"South Asia\",\"East Asia & Pacific\",\"Middle East & North Africa\",\"Middle East & North Africa\",\"Europe & Central Asia\",\"Middle East & North Africa\",\"Europe & Central Asia\",\"America\",\"East Asia & Pacific\",\"Middle East & North Africa\",\"Europe & Central Asia\",\"Sub-Saharan Africa\",\"East Asia & Pacific\",\"East Asia & Pacific\",\"East Asia & Pacific\",\"Middle East & North Africa\",\"Europe & Central Asia\",\"East Asia & Pacific\",\"Europe & Central Asia\",\"Middle East & North Africa\",\"Sub-Saharan Africa\",\"Sub-Saharan Africa\",\"Middle East & North Africa\",\"Europe & Central Asia\",\"Europe & Central Asia\",\"East Asia & Pacific\",\"Europe & Central Asia\",\"Sub-Saharan Africa\",\"Sub-Saharan Africa\",\"East Asia & Pacific\",\"South Asia\",\"Sub-Saharan Africa\",\"Europe & Central Asia\",\"America\",\"Sub-Saharan Africa\",\"Sub-Saharan Africa\",\"Sub-Saharan Africa\",\"America\",\"East Asia & Pacific\",\"Europe & Central Asia\",\"East Asia & Pacific\",\"Europe & Central Asia\",\"Middle East & North Africa\",\"Sub-Saharan Africa\",\"East Asia & Pacific\",\"Sub-Saharan Africa\",\"South Asia\",\"Europe & Central Asia\",\"America\",\"East Asia & Pacific\",\"East Asia & Pacific\",\"America\",\"Sub-Saharan Africa\",\"Sub-Saharan Africa\",\"Europe & Central Asia\",\"Middle East & North Africa\",\"South Asia\",\"America\",\"East Asia & Pacific\",\"America\",\"America\",\"East Asia & Pacific\",\"Europe & Central Asia\",\"Europe & Central Asia\",\"America\",\"Middle East & North Africa\",\"Sub-Saharan Africa\",\"Europe & Central Asia\",\"Europe & Central Asia\",\"Sub-Saharan Africa\",\"America\",\"America\",\"East Asia & Pacific\",\"Sub-Saharan Africa\",\"Middle East & North Africa\",\"Sub-Saharan Africa\",\"Europe & Central Asia\",\"Sub-Saharan Africa\",\"Sub-Saharan Africa\",\"East Asia & Pacific\",\"Europe & Central Asia\",\"Europe & Central Asia\",\"East Asia & Pacific\",\"Sub-Saharan Africa\",\"Sub-Saharan Africa\",\"Sub-Saharan Africa\",\"Europe & Central Asia\",\"South Asia\",\"Sub-Saharan Africa\",\"America\",\"Sub-Saharan Africa\",\"Europe & Central Asia\",\"Europe & Central Asia\",\"Middle East & North Africa\",\"East Asia & Pacific\",\"Europe & Central Asia\",\"Sub-Saharan Africa\",\"East Asia & Pacific\",\"East Asia & Pacific\",\"Sub-Saharan Africa\",\"East Asia & Pacific\",\"America\",\"Middle East & North Africa\",\"Europe & Central Asia\",\"Europe & Central Asia\",\"Sub-Saharan Africa\",\"Europe & Central Asia\",\"Middle East & North Africa\",\"Europe & Central Asia\",\"America\",\"America\",\"Europe & Central Asia\",\"East Asia & Pacific\",\"America\",\"East Asia & Pacific\",\"America\",\"Middle East & North Africa\",\"Middle East & North Africa\",\"Middle East & North Africa\",\"Sub-Saharan Africa\",\"Sub-Saharan Africa\"],\"x\":{\"__ndarray__\":\"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\",\"dtype\":\"float64\",\"shape\":[202]},\"y\":{\"__ndarray__\":\"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\",\"dtype\":\"float64\",\"shape\":[202]}},\"selected\":{\"id\":\"43ec7dc0-ddcf-4c4b-a357-8c42f090d913\",\"type\":\"Selection\"},\"selection_policy\":{\"id\":\"064c5335-f176-41e2-a50b-fec43db7c2f6\",\"type\":\"UnionRenderers\"}},\"id\":\"c3bebedb-ecfa-4f32-8ccc-49c8623f6728\",\"type\":\"ColumnDataSource\"},{\"attributes\":{},\"id\":\"c32173cc-1d90-4fb8-97ac-bef4bfe262a1\",\"type\":\"SaveTool\"},{\"attributes\":{\"data_source\":{\"id\":\"c3bebedb-ecfa-4f32-8ccc-49c8623f6728\",\"type\":\"ColumnDataSource\"},\"glyph\":{\"id\":\"ac587555-7261-4308-ae6c-f42abc999a6b\",\"type\":\"Circle\"},\"hover_glyph\":null,\"muted_glyph\":null,\"nonselection_glyph\":{\"id\":\"011dcb26-996d-4cf2-b48a-cb0622efa860\",\"type\":\"Circle\"},\"selection_glyph\":null,\"view\":{\"id\":\"f518464f-6ac5-42c1-95cb-108b9e0ee5e0\",\"type\":\"CDSView\"}},\"id\":\"3a498a58-6a65-433b-a1e0-fab1b1b32363\",\"type\":\"GlyphRenderer\"},{\"attributes\":{},\"id\":\"b7b81a42-d2cf-4eae-af9b-9d2c848c3e6f\",\"type\":\"HelpTool\"},{\"attributes\":{\"plot\":null,\"text\":\"Gapminder Data for 1970\"},\"id\":\"99d4cd41-11c1-403b-a75e-8d747b8ff349\",\"type\":\"Title\"},{\"attributes\":{\"bottom_units\":\"screen\",\"fill_alpha\":{\"value\":0.5},\"fill_color\":{\"value\":\"lightgrey\"},\"left_units\":\"screen\",\"level\":\"overlay\",\"line_alpha\":{\"value\":1.0},\"line_color\":{\"value\":\"black\"},\"line_dash\":[4,4],\"line_width\":{\"value\":2},\"plot\":null,\"render_mode\":\"css\",\"right_units\":\"screen\",\"top_units\":\"screen\"},\"id\":\"7e8bfde7-4dec-46c6-a4c4-936ff20adaa0\",\"type\":\"BoxAnnotation\"},{\"attributes\":{\"source\":{\"id\":\"c3bebedb-ecfa-4f32-8ccc-49c8623f6728\",\"type\":\"ColumnDataSource\"}},\"id\":\"f518464f-6ac5-42c1-95cb-108b9e0ee5e0\",\"type\":\"CDSView\"},{\"attributes\":{\"active_drag\":\"auto\",\"active_inspect\":\"auto\",\"active_multi\":null,\"active_scroll\":\"auto\",\"active_tap\":\"auto\",\"tools\":[{\"id\":\"6dc9eb5c-d1e1-4f3b-98ac-36e35970cad2\",\"type\":\"PanTool\"},{\"id\":\"a441c7fb-adae-46ac-9824-a400f0f3555b\",\"type\":\"WheelZoomTool\"},{\"id\":\"82c46e67-428a-4102-9765-5bff46391283\",\"type\":\"BoxZoomTool\"},{\"id\":\"c32173cc-1d90-4fb8-97ac-bef4bfe262a1\",\"type\":\"SaveTool\"},{\"id\":\"1d50348f-1976-45d8-8520-2ce4c5b56001\",\"type\":\"ResetTool\"},{\"id\":\"b7b81a42-d2cf-4eae-af9b-9d2c848c3e6f\",\"type\":\"HelpTool\"}]},\"id\":\"3fda9a30-9486-4d60-89f9-f92ffebc4088\",\"type\":\"Toolbar\"},{\"attributes\":{},\"id\":\"064c5335-f176-41e2-a50b-fec43db7c2f6\",\"type\":\"UnionRenderers\"},{\"attributes\":{},\"id\":\"bc45fb1b-b8d6-4d70-88c1-fc85ae4e24d3\",\"type\":\"BasicTickFormatter\"},{\"attributes\":{\"fill_alpha\":{\"value\":0.8},\"fill_color\":{\"value\":\"#1f77b4\"},\"line_color\":{\"value\":\"#1f77b4\"},\"x\":{\"field\":\"x\"},\"y\":{\"field\":\"y\"}},\"id\":\"ac587555-7261-4308-ae6c-f42abc999a6b\",\"type\":\"Circle\"},{\"attributes\":{\"axis_label\":\"Fertility (children per woman)\",\"formatter\":{\"id\":\"ad6cb3dd-ea22-4e6f-b6cc-e6cf95a04719\",\"type\":\"BasicTickFormatter\"},\"plot\":{\"id\":\"60d2bf2f-d211-4c1f-ab5d-5dc9d79fcc49\",\"subtype\":\"Figure\",\"type\":\"Plot\"},\"ticker\":{\"id\":\"0bd94d5b-7644-4ac7-8b83-40769a57c0dd\",\"type\":\"BasicTicker\"}},\"id\":\"ef0f4ca4-c0ce-4bd1-98a7-bf096869c271\",\"type\":\"LinearAxis\"},{\"attributes\":{},\"id\":\"0bd94d5b-7644-4ac7-8b83-40769a57c0dd\",\"type\":\"BasicTicker\"},{\"attributes\":{\"plot\":{\"id\":\"60d2bf2f-d211-4c1f-ab5d-5dc9d79fcc49\",\"subtype\":\"Figure\",\"type\":\"Plot\"},\"ticker\":{\"id\":\"0bd94d5b-7644-4ac7-8b83-40769a57c0dd\",\"type\":\"BasicTicker\"}},\"id\":\"d29da212-5479-4555-8274-a062f5081650\",\"type\":\"Grid\"},{\"attributes\":{\"axis_label\":\"Life Expectancy (years)\",\"formatter\":{\"id\":\"bc45fb1b-b8d6-4d70-88c1-fc85ae4e24d3\",\"type\":\"BasicTickFormatter\"},\"plot\":{\"id\":\"60d2bf2f-d211-4c1f-ab5d-5dc9d79fcc49\",\"subtype\":\"Figure\",\"type\":\"Plot\"},\"ticker\":{\"id\":\"303826e9-5a08-433f-892b-4f9c51b9de40\",\"type\":\"BasicTicker\"}},\"id\":\"44e53f05-0e26-4362-b523-5068de72afb2\",\"type\":\"LinearAxis\"},{\"attributes\":{},\"id\":\"b1a70036-d445-4c6e-8898-7010eb237fa6\",\"type\":\"LinearScale\"},{\"attributes\":{},\"id\":\"303826e9-5a08-433f-892b-4f9c51b9de40\",\"type\":\"BasicTicker\"},{\"attributes\":{\"callback\":null,\"end\":9.223,\"start\":0.836},\"id\":\"9248c12b-b45c-434f-a505-458c51a0d45b\",\"type\":\"Range1d\"},{\"attributes\":{\"dimension\":1,\"plot\":{\"id\":\"60d2bf2f-d211-4c1f-ab5d-5dc9d79fcc49\",\"subtype\":\"Figure\",\"type\":\"Plot\"},\"ticker\":{\"id\":\"303826e9-5a08-433f-892b-4f9c51b9de40\",\"type\":\"BasicTicker\"}},\"id\":\"e25d043a-2478-4641-b730-356af02665e7\",\"type\":\"Grid\"}],\"root_ids\":[\"60d2bf2f-d211-4c1f-ab5d-5dc9d79fcc49\"]},\"title\":\"Bokeh Application\",\"version\":\"0.13.0\"}};\n",
       "  var render_items = [{\"docid\":\"041d6b51-7ab8-41b7-9f34-37ed05a2b778\",\"roots\":{\"60d2bf2f-d211-4c1f-ab5d-5dc9d79fcc49\":\"76558297-ffff-4a8e-b1ed-d490203efc5f\"}}];\n",
       "  root.Bokeh.embed.embed_items_notebook(docs_json, render_items);\n",
       "\n",
       "  }\n",
       "  if (root.Bokeh !== undefined) {\n",
       "    embed_document(root);\n",
       "  } else {\n",
       "    var attempts = 0;\n",
       "    var timer = setInterval(function(root) {\n",
       "      if (root.Bokeh !== undefined) {\n",
       "        embed_document(root);\n",
       "        clearInterval(timer);\n",
       "      }\n",
       "      attempts++;\n",
       "      if (attempts > 100) {\n",
       "        console.log(\"Bokeh: ERROR: Unable to run BokehJS code because BokehJS library is missing\")\n",
       "        clearInterval(timer);\n",
       "      }\n",
       "    }, 10, root)\n",
       "  }\n",
       "})(window);"
      ],
      "application/vnd.bokehjs_exec.v0+json": ""
     },
     "metadata": {
      "application/vnd.bokehjs_exec.v0+json": {
       "id": "60d2bf2f-d211-4c1f-ab5d-5dc9d79fcc49"
      }
     },
     "output_type": "display_data"
    }
   ],
   "source": [
    "show(plot)"
   ]
  }
 ],
 "metadata": {
  "kernelspec": {
   "display_name": "Python 3",
   "language": "python",
   "name": "python3"
  },
  "language_info": {
   "codemirror_mode": {
    "name": "ipython",
    "version": 3
   },
   "file_extension": ".py",
   "mimetype": "text/x-python",
   "name": "python",
   "nbconvert_exporter": "python",
   "pygments_lexer": "ipython3",
   "version": "3.7.0"
  }
 },
 "nbformat": 4,
 "nbformat_minor": 2
}
