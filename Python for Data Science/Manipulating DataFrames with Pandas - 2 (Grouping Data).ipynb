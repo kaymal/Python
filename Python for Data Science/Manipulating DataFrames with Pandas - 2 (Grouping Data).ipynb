{
 "cells": [
  {
   "cell_type": "markdown",
   "metadata": {},
   "source": [
    "# Manipulating DataFrames with Pandas - 2 (Grouping Data)"
   ]
  },
  {
   "cell_type": "markdown",
   "metadata": {},
   "source": [
    "We can use `groupby()` function to\n",
    "* Split data into groups\n",
    "* Apply a function to each group\n",
    "  - Aggregate (e.g. compute counts, means)\n",
    "  - Transform (e.g. fill NAs within groups with group specific values)\n",
    "  - Filter (filter out data based on a group statistic)\n",
    "* Combine the results"
   ]
  },
  {
   "cell_type": "code",
   "execution_count": null,
   "metadata": {},
   "outputs": [],
   "source": []
  },
  {
   "cell_type": "markdown",
   "metadata": {},
   "source": [
    ">Aggregating functions are the ones that reduce the dimension of the returned objects. Some common aggregating functions are tabulated below:\n",
    "- mean()\tCompute mean of groups\n",
    "- sum()\tCompute sum of group values\n",
    "- size()\tCompute group sizes\n",
    "- count()\tCompute count of group\n",
    "- std()\tStandard deviation of groups\n",
    "- var()\tCompute variance of groups\n",
    "- sem()\tStandard error of the mean of groups\n",
    "- describe()\tGenerates descriptive statistics\n",
    "- first()\tCompute first of group values\n",
    "- last()\tCompute last of group values\n",
    "- nth()\tTake nth value, or a subset if n is a list\n",
    "- min()\tCompute min of group values\n",
    "- max()\tCompute max of group values.\n",
    "[source](https://pandas.pydata.org/pandas-docs/stable/user_guide/groupby.html)"
   ]
  }
 ],
 "metadata": {
  "kernelspec": {
   "display_name": "Python 3",
   "language": "python",
   "name": "python3"
  },
  "language_info": {
   "codemirror_mode": {
    "name": "ipython",
    "version": 3
   },
   "file_extension": ".py",
   "mimetype": "text/x-python",
   "name": "python",
   "nbconvert_exporter": "python",
   "pygments_lexer": "ipython3",
   "version": "3.7.0"
  }
 },
 "nbformat": 4,
 "nbformat_minor": 2
}
