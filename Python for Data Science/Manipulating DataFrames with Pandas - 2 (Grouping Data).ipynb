{
 "cells": [
  {
   "cell_type": "markdown",
   "metadata": {},
   "source": [
    "# Manipulating DataFrames with Pandas - 2 (Grouping Data)"
   ]
  },
  {
   "cell_type": "markdown",
   "metadata": {},
   "source": [
    "We can use `groupby()` function to\n",
    "* Split data into groups\n",
    "* Apply a function to each group\n",
    "  - Aggregate (e.g. compute counts, means)\n",
    "  - Transform (e.g. fill NAs within groups with group specific values)\n",
    "  - Filter (filter out data based on a group statistic)\n",
    "* Combine the results"
   ]
  },
  {
   "cell_type": "code",
   "execution_count": 88,
   "metadata": {},
   "outputs": [],
   "source": [
    "import pandas as pd\n",
    "import matplotlib.pyplot as plt"
   ]
  },
  {
   "cell_type": "markdown",
   "metadata": {},
   "source": [
    "We'll use _Gapminder_ dataset in this Notebook."
   ]
  },
  {
   "cell_type": "code",
   "execution_count": 89,
   "metadata": {},
   "outputs": [
    {
     "name": "stdout",
     "output_type": "stream",
     "text": [
      "<class 'pandas.core.frame.DataFrame'>\n",
      "RangeIndex: 10111 entries, 0 to 10110\n",
      "Data columns (total 8 columns):\n",
      "Country            10111 non-null object\n",
      "Year               10111 non-null int64\n",
      "fertility          10100 non-null float64\n",
      "life               10111 non-null float64\n",
      "population         10108 non-null float64\n",
      "child_mortality    9210 non-null float64\n",
      "gdp                9000 non-null float64\n",
      "region             10111 non-null object\n",
      "dtypes: float64(5), int64(1), object(2)\n",
      "memory usage: 632.0+ KB\n"
     ]
    }
   ],
   "source": [
    "df = pd.read_csv('data/gapminder.csv')\n",
    "df.info()"
   ]
  },
  {
   "cell_type": "code",
   "execution_count": 90,
   "metadata": {},
   "outputs": [
    {
     "data": {
      "text/plain": [
       "(10111, 8)"
      ]
     },
     "execution_count": 90,
     "metadata": {},
     "output_type": "execute_result"
    }
   ],
   "source": [
    "df.shape"
   ]
  },
  {
   "cell_type": "code",
   "execution_count": 91,
   "metadata": {},
   "outputs": [
    {
     "data": {
      "text/html": [
       "<div>\n",
       "<style scoped>\n",
       "    .dataframe tbody tr th:only-of-type {\n",
       "        vertical-align: middle;\n",
       "    }\n",
       "\n",
       "    .dataframe tbody tr th {\n",
       "        vertical-align: top;\n",
       "    }\n",
       "\n",
       "    .dataframe thead th {\n",
       "        text-align: right;\n",
       "    }\n",
       "</style>\n",
       "<table border=\"1\" class=\"dataframe\">\n",
       "  <thead>\n",
       "    <tr style=\"text-align: right;\">\n",
       "      <th></th>\n",
       "      <th>Country</th>\n",
       "      <th>Year</th>\n",
       "      <th>fertility</th>\n",
       "      <th>life</th>\n",
       "      <th>population</th>\n",
       "      <th>child_mortality</th>\n",
       "      <th>gdp</th>\n",
       "      <th>region</th>\n",
       "    </tr>\n",
       "  </thead>\n",
       "  <tbody>\n",
       "    <tr>\n",
       "      <th>0</th>\n",
       "      <td>Afghanistan</td>\n",
       "      <td>1964</td>\n",
       "      <td>7.671</td>\n",
       "      <td>33.639</td>\n",
       "      <td>10474903.0</td>\n",
       "      <td>339.7</td>\n",
       "      <td>1182.0</td>\n",
       "      <td>South Asia</td>\n",
       "    </tr>\n",
       "  </tbody>\n",
       "</table>\n",
       "</div>"
      ],
      "text/plain": [
       "       Country  Year  fertility    life  population  child_mortality     gdp  \\\n",
       "0  Afghanistan  1964      7.671  33.639  10474903.0            339.7  1182.0   \n",
       "\n",
       "       region  \n",
       "0  South Asia  "
      ]
     },
     "execution_count": 91,
     "metadata": {},
     "output_type": "execute_result"
    }
   ],
   "source": [
    "df.head(1)"
   ]
  },
  {
   "cell_type": "markdown",
   "metadata": {},
   "source": [
    "## Splitting Data"
   ]
  },
  {
   "cell_type": "markdown",
   "metadata": {},
   "source": [
    "We can split the data into groups with `.groupby()`. This allows us to implement functions to each group seperately"
   ]
  },
  {
   "cell_type": "code",
   "execution_count": 105,
   "metadata": {},
   "outputs": [
    {
     "data": {
      "text/html": [
       "<div>\n",
       "<style scoped>\n",
       "    .dataframe tbody tr th:only-of-type {\n",
       "        vertical-align: middle;\n",
       "    }\n",
       "\n",
       "    .dataframe tbody tr th {\n",
       "        vertical-align: top;\n",
       "    }\n",
       "\n",
       "    .dataframe thead th {\n",
       "        text-align: right;\n",
       "    }\n",
       "</style>\n",
       "<table border=\"1\" class=\"dataframe\">\n",
       "  <thead>\n",
       "    <tr style=\"text-align: right;\">\n",
       "      <th></th>\n",
       "      <th>Country</th>\n",
       "      <th>Year</th>\n",
       "      <th>fertility</th>\n",
       "      <th>life</th>\n",
       "      <th>population</th>\n",
       "      <th>child_mortality</th>\n",
       "      <th>gdp</th>\n",
       "      <th>region</th>\n",
       "    </tr>\n",
       "  </thead>\n",
       "  <tbody>\n",
       "    <tr>\n",
       "      <th>0</th>\n",
       "      <td>Afghanistan</td>\n",
       "      <td>1964</td>\n",
       "      <td>7.671</td>\n",
       "      <td>33.639</td>\n",
       "      <td>10474903.0</td>\n",
       "      <td>339.70</td>\n",
       "      <td>1182.0</td>\n",
       "      <td>South Asia</td>\n",
       "    </tr>\n",
       "    <tr>\n",
       "      <th>50</th>\n",
       "      <td>Albania</td>\n",
       "      <td>1964</td>\n",
       "      <td>5.711</td>\n",
       "      <td>65.475</td>\n",
       "      <td>1817098.0</td>\n",
       "      <td>122.67</td>\n",
       "      <td>3023.0</td>\n",
       "      <td>Europe &amp; Central Asia</td>\n",
       "    </tr>\n",
       "    <tr>\n",
       "      <th>100</th>\n",
       "      <td>Algeria</td>\n",
       "      <td>1964</td>\n",
       "      <td>7.653</td>\n",
       "      <td>47.953</td>\n",
       "      <td>11654905.0</td>\n",
       "      <td>247.30</td>\n",
       "      <td>5693.0</td>\n",
       "      <td>Middle East &amp; North Africa</td>\n",
       "    </tr>\n",
       "    <tr>\n",
       "      <th>150</th>\n",
       "      <td>Angola</td>\n",
       "      <td>1964</td>\n",
       "      <td>7.425</td>\n",
       "      <td>34.604</td>\n",
       "      <td>5337063.0</td>\n",
       "      <td>305.20</td>\n",
       "      <td>4573.0</td>\n",
       "      <td>Sub-Saharan Africa</td>\n",
       "    </tr>\n",
       "    <tr>\n",
       "      <th>200</th>\n",
       "      <td>Antigua and Barbuda</td>\n",
       "      <td>1964</td>\n",
       "      <td>4.250</td>\n",
       "      <td>63.775</td>\n",
       "      <td>58653.0</td>\n",
       "      <td>72.78</td>\n",
       "      <td>5008.0</td>\n",
       "      <td>America</td>\n",
       "    </tr>\n",
       "    <tr>\n",
       "      <th>400</th>\n",
       "      <td>Australia</td>\n",
       "      <td>1964</td>\n",
       "      <td>3.154</td>\n",
       "      <td>70.650</td>\n",
       "      <td>11122567.0</td>\n",
       "      <td>22.70</td>\n",
       "      <td>16098.0</td>\n",
       "      <td>East Asia &amp; Pacific</td>\n",
       "    </tr>\n",
       "  </tbody>\n",
       "</table>\n",
       "</div>"
      ],
      "text/plain": [
       "                 Country  Year  fertility    life  population  \\\n",
       "0            Afghanistan  1964      7.671  33.639  10474903.0   \n",
       "50               Albania  1964      5.711  65.475   1817098.0   \n",
       "100              Algeria  1964      7.653  47.953  11654905.0   \n",
       "150               Angola  1964      7.425  34.604   5337063.0   \n",
       "200  Antigua and Barbuda  1964      4.250  63.775     58653.0   \n",
       "400            Australia  1964      3.154  70.650  11122567.0   \n",
       "\n",
       "     child_mortality      gdp                      region  \n",
       "0             339.70   1182.0                  South Asia  \n",
       "50            122.67   3023.0       Europe & Central Asia  \n",
       "100           247.30   5693.0  Middle East & North Africa  \n",
       "150           305.20   4573.0          Sub-Saharan Africa  \n",
       "200            72.78   5008.0                     America  \n",
       "400            22.70  16098.0         East Asia & Pacific  "
      ]
     },
     "execution_count": 105,
     "metadata": {},
     "output_type": "execute_result"
    }
   ],
   "source": [
    "df_group = df.groupby('region')\n",
    "df_group.head(1)"
   ]
  },
  {
   "cell_type": "code",
   "execution_count": 107,
   "metadata": {},
   "outputs": [
    {
     "data": {
      "text/plain": [
       "dict"
      ]
     },
     "execution_count": 107,
     "metadata": {},
     "output_type": "execute_result"
    }
   ],
   "source": [
    "type(df_group.groups)"
   ]
  },
  {
   "cell_type": "code",
   "execution_count": 109,
   "metadata": {},
   "outputs": [
    {
     "data": {
      "text/plain": [
       "dict_keys(['America', 'East Asia & Pacific', 'Europe & Central Asia', 'Middle East & North Africa', 'South Asia', 'Sub-Saharan Africa'])"
      ]
     },
     "execution_count": 109,
     "metadata": {},
     "output_type": "execute_result"
    }
   ],
   "source": [
    "df_group.groups.keys()"
   ]
  },
  {
   "cell_type": "code",
   "execution_count": 110,
   "metadata": {},
   "outputs": [
    {
     "data": {
      "text/plain": [
       "Int64Index([   50,    51,    52,    53,    54,    55,    56,    57,    58,\n",
       "               59,\n",
       "            ...\n",
       "            10101, 10102, 10103, 10104, 10105, 10106, 10107, 10108, 10109,\n",
       "            10110],\n",
       "           dtype='int64', length=2560)"
      ]
     },
     "execution_count": 110,
     "metadata": {},
     "output_type": "execute_result"
    }
   ],
   "source": [
    "df_group.groups['Europe & Central Asia']"
   ]
  },
  {
   "cell_type": "markdown",
   "metadata": {},
   "source": [
    "## Applying a Function to Each Group"
   ]
  },
  {
   "cell_type": "markdown",
   "metadata": {},
   "source": [
    "### Aggregation"
   ]
  },
  {
   "cell_type": "markdown",
   "metadata": {},
   "source": [
    ">Aggregating functions are the ones that reduce the dimension of the returned objects. Some common aggregating functions are tabulated below:\n",
    "- mean()\tCompute mean of groups\n",
    "- sum()\tCompute sum of group values\n",
    "- size()\tCompute group sizes\n",
    "- count()\tCompute count of group\n",
    "- std()\tStandard deviation of groups\n",
    "- var()\tCompute variance of groups\n",
    "- sem()\tStandard error of the mean of groups\n",
    "- describe()\tGenerates descriptive statistics\n",
    "- first()\tCompute first of group values\n",
    "- last()\tCompute last of group values\n",
    "- nth()\tTake nth value, or a subset if n is a list\n",
    "- min()\tCompute min of group values\n",
    "- max()\tCompute max of group values.\n",
    "[source](https://pandas.pydata.org/pandas-docs/stable/user_guide/groupby.html)"
   ]
  },
  {
   "cell_type": "code",
   "execution_count": 93,
   "metadata": {},
   "outputs": [
    {
     "data": {
      "text/html": [
       "<div>\n",
       "<style scoped>\n",
       "    .dataframe tbody tr th:only-of-type {\n",
       "        vertical-align: middle;\n",
       "    }\n",
       "\n",
       "    .dataframe tbody tr th {\n",
       "        vertical-align: top;\n",
       "    }\n",
       "\n",
       "    .dataframe thead th {\n",
       "        text-align: right;\n",
       "    }\n",
       "</style>\n",
       "<table border=\"1\" class=\"dataframe\">\n",
       "  <thead>\n",
       "    <tr style=\"text-align: right;\">\n",
       "      <th></th>\n",
       "      <th>Year</th>\n",
       "      <th>fertility</th>\n",
       "      <th>life</th>\n",
       "      <th>population</th>\n",
       "      <th>child_mortality</th>\n",
       "      <th>gdp</th>\n",
       "    </tr>\n",
       "    <tr>\n",
       "      <th>region</th>\n",
       "      <th></th>\n",
       "      <th></th>\n",
       "      <th></th>\n",
       "      <th></th>\n",
       "      <th></th>\n",
       "      <th></th>\n",
       "    </tr>\n",
       "  </thead>\n",
       "  <tbody>\n",
       "    <tr>\n",
       "      <th>America</th>\n",
       "      <td>1988.500000</td>\n",
       "      <td>3.486061</td>\n",
       "      <td>68.722251</td>\n",
       "      <td>1.774572e+07</td>\n",
       "      <td>50.513292</td>\n",
       "      <td>11599.921875</td>\n",
       "    </tr>\n",
       "    <tr>\n",
       "      <th>East Asia &amp; Pacific</th>\n",
       "      <td>1988.510931</td>\n",
       "      <td>3.725836</td>\n",
       "      <td>66.108632</td>\n",
       "      <td>5.468619e+07</td>\n",
       "      <td>59.337826</td>\n",
       "      <td>13336.156923</td>\n",
       "    </tr>\n",
       "    <tr>\n",
       "      <th>Europe &amp; Central Asia</th>\n",
       "      <td>1988.550781</td>\n",
       "      <td>2.214177</td>\n",
       "      <td>71.931303</td>\n",
       "      <td>1.600358e+07</td>\n",
       "      <td>30.180168</td>\n",
       "      <td>18442.045417</td>\n",
       "    </tr>\n",
       "    <tr>\n",
       "      <th>Middle East &amp; North Africa</th>\n",
       "      <td>1988.500000</td>\n",
       "      <td>4.970019</td>\n",
       "      <td>65.194301</td>\n",
       "      <td>1.171303e+07</td>\n",
       "      <td>69.884533</td>\n",
       "      <td>27510.731579</td>\n",
       "    </tr>\n",
       "    <tr>\n",
       "      <th>South Asia</th>\n",
       "      <td>1988.500000</td>\n",
       "      <td>5.004162</td>\n",
       "      <td>57.137710</td>\n",
       "      <td>1.406782e+08</td>\n",
       "      <td>137.767150</td>\n",
       "      <td>2552.650000</td>\n",
       "    </tr>\n",
       "    <tr>\n",
       "      <th>Sub-Saharan Africa</th>\n",
       "      <td>1988.500000</td>\n",
       "      <td>5.956105</td>\n",
       "      <td>51.664426</td>\n",
       "      <td>1.050998e+07</td>\n",
       "      <td>158.917473</td>\n",
       "      <td>3152.428511</td>\n",
       "    </tr>\n",
       "  </tbody>\n",
       "</table>\n",
       "</div>"
      ],
      "text/plain": [
       "                                   Year  fertility       life    population  \\\n",
       "region                                                                        \n",
       "America                     1988.500000   3.486061  68.722251  1.774572e+07   \n",
       "East Asia & Pacific         1988.510931   3.725836  66.108632  5.468619e+07   \n",
       "Europe & Central Asia       1988.550781   2.214177  71.931303  1.600358e+07   \n",
       "Middle East & North Africa  1988.500000   4.970019  65.194301  1.171303e+07   \n",
       "South Asia                  1988.500000   5.004162  57.137710  1.406782e+08   \n",
       "Sub-Saharan Africa          1988.500000   5.956105  51.664426  1.050998e+07   \n",
       "\n",
       "                            child_mortality           gdp  \n",
       "region                                                     \n",
       "America                           50.513292  11599.921875  \n",
       "East Asia & Pacific               59.337826  13336.156923  \n",
       "Europe & Central Asia             30.180168  18442.045417  \n",
       "Middle East & North Africa        69.884533  27510.731579  \n",
       "South Asia                       137.767150   2552.650000  \n",
       "Sub-Saharan Africa               158.917473   3152.428511  "
      ]
     },
     "execution_count": 93,
     "metadata": {},
     "output_type": "execute_result"
    }
   ],
   "source": [
    "df.groupby('region').mean()"
   ]
  },
  {
   "cell_type": "code",
   "execution_count": 94,
   "metadata": {},
   "outputs": [
    {
     "data": {
      "text/html": [
       "<div>\n",
       "<style scoped>\n",
       "    .dataframe tbody tr th:only-of-type {\n",
       "        vertical-align: middle;\n",
       "    }\n",
       "\n",
       "    .dataframe tbody tr th {\n",
       "        vertical-align: top;\n",
       "    }\n",
       "\n",
       "    .dataframe thead th {\n",
       "        text-align: right;\n",
       "    }\n",
       "</style>\n",
       "<table border=\"1\" class=\"dataframe\">\n",
       "  <thead>\n",
       "    <tr style=\"text-align: right;\">\n",
       "      <th></th>\n",
       "      <th></th>\n",
       "      <th>fertility</th>\n",
       "      <th>life</th>\n",
       "      <th>population</th>\n",
       "      <th>child_mortality</th>\n",
       "      <th>gdp</th>\n",
       "    </tr>\n",
       "    <tr>\n",
       "      <th>Year</th>\n",
       "      <th>region</th>\n",
       "      <th></th>\n",
       "      <th></th>\n",
       "      <th></th>\n",
       "      <th></th>\n",
       "      <th></th>\n",
       "    </tr>\n",
       "  </thead>\n",
       "  <tbody>\n",
       "    <tr>\n",
       "      <th rowspan=\"5\" valign=\"top\">1964</th>\n",
       "      <th>America</th>\n",
       "      <td>5.574650</td>\n",
       "      <td>60.462775</td>\n",
       "      <td>1.155489e+07</td>\n",
       "      <td>113.950667</td>\n",
       "      <td>6813.875000</td>\n",
       "    </tr>\n",
       "    <tr>\n",
       "      <th>East Asia &amp; Pacific</th>\n",
       "      <td>5.708032</td>\n",
       "      <td>56.798429</td>\n",
       "      <td>3.470839e+07</td>\n",
       "      <td>129.109130</td>\n",
       "      <td>6431.500000</td>\n",
       "    </tr>\n",
       "    <tr>\n",
       "      <th>Europe &amp; Central Asia</th>\n",
       "      <td>3.270488</td>\n",
       "      <td>67.840110</td>\n",
       "      <td>1.370303e+07</td>\n",
       "      <td>61.585319</td>\n",
       "      <td>9760.062500</td>\n",
       "    </tr>\n",
       "    <tr>\n",
       "      <th>Middle East &amp; North Africa</th>\n",
       "      <td>6.965571</td>\n",
       "      <td>52.119810</td>\n",
       "      <td>5.623595e+06</td>\n",
       "      <td>179.605263</td>\n",
       "      <td>10962.157895</td>\n",
       "    </tr>\n",
       "    <tr>\n",
       "      <th>South Asia</th>\n",
       "      <td>6.480500</td>\n",
       "      <td>43.877125</td>\n",
       "      <td>7.813424e+07</td>\n",
       "      <td>256.922500</td>\n",
       "      <td>1233.875000</td>\n",
       "    </tr>\n",
       "  </tbody>\n",
       "</table>\n",
       "</div>"
      ],
      "text/plain": [
       "                                 fertility       life    population  \\\n",
       "Year region                                                           \n",
       "1964 America                      5.574650  60.462775  1.155489e+07   \n",
       "     East Asia & Pacific          5.708032  56.798429  3.470839e+07   \n",
       "     Europe & Central Asia        3.270488  67.840110  1.370303e+07   \n",
       "     Middle East & North Africa   6.965571  52.119810  5.623595e+06   \n",
       "     South Asia                   6.480500  43.877125  7.813424e+07   \n",
       "\n",
       "                                 child_mortality           gdp  \n",
       "Year region                                                     \n",
       "1964 America                          113.950667   6813.875000  \n",
       "     East Asia & Pacific              129.109130   6431.500000  \n",
       "     Europe & Central Asia             61.585319   9760.062500  \n",
       "     Middle East & North Africa       179.605263  10962.157895  \n",
       "     South Asia                       256.922500   1233.875000  "
      ]
     },
     "execution_count": 94,
     "metadata": {},
     "output_type": "execute_result"
    }
   ],
   "source": [
    "df.groupby(['Year', 'region']).mean().head()"
   ]
  },
  {
   "cell_type": "markdown",
   "metadata": {},
   "source": [
    "Multiple aggregations can be applied with `.agg()` method."
   ]
  },
  {
   "cell_type": "code",
   "execution_count": 95,
   "metadata": {},
   "outputs": [
    {
     "data": {
      "text/html": [
       "<div>\n",
       "<style scoped>\n",
       "    .dataframe tbody tr th:only-of-type {\n",
       "        vertical-align: middle;\n",
       "    }\n",
       "\n",
       "    .dataframe tbody tr th {\n",
       "        vertical-align: top;\n",
       "    }\n",
       "\n",
       "    .dataframe thead th {\n",
       "        text-align: right;\n",
       "    }\n",
       "</style>\n",
       "<table border=\"1\" class=\"dataframe\">\n",
       "  <thead>\n",
       "    <tr style=\"text-align: right;\">\n",
       "      <th></th>\n",
       "      <th>max</th>\n",
       "      <th>mean</th>\n",
       "    </tr>\n",
       "    <tr>\n",
       "      <th>region</th>\n",
       "      <th></th>\n",
       "      <th></th>\n",
       "    </tr>\n",
       "  </thead>\n",
       "  <tbody>\n",
       "    <tr>\n",
       "      <th>America</th>\n",
       "      <td>3.184976e+08</td>\n",
       "      <td>1.774572e+07</td>\n",
       "    </tr>\n",
       "    <tr>\n",
       "      <th>East Asia &amp; Pacific</th>\n",
       "      <td>1.359368e+09</td>\n",
       "      <td>5.468619e+07</td>\n",
       "    </tr>\n",
       "    <tr>\n",
       "      <th>Europe &amp; Central Asia</th>\n",
       "      <td>1.489456e+08</td>\n",
       "      <td>1.600358e+07</td>\n",
       "    </tr>\n",
       "    <tr>\n",
       "      <th>Middle East &amp; North Africa</th>\n",
       "      <td>8.537844e+07</td>\n",
       "      <td>1.171303e+07</td>\n",
       "    </tr>\n",
       "    <tr>\n",
       "      <th>South Asia</th>\n",
       "      <td>1.275138e+09</td>\n",
       "      <td>1.406782e+08</td>\n",
       "    </tr>\n",
       "    <tr>\n",
       "      <th>Sub-Saharan Africa</th>\n",
       "      <td>1.709011e+08</td>\n",
       "      <td>1.050998e+07</td>\n",
       "    </tr>\n",
       "  </tbody>\n",
       "</table>\n",
       "</div>"
      ],
      "text/plain": [
       "                                     max          mean\n",
       "region                                                \n",
       "America                     3.184976e+08  1.774572e+07\n",
       "East Asia & Pacific         1.359368e+09  5.468619e+07\n",
       "Europe & Central Asia       1.489456e+08  1.600358e+07\n",
       "Middle East & North Africa  8.537844e+07  1.171303e+07\n",
       "South Asia                  1.275138e+09  1.406782e+08\n",
       "Sub-Saharan Africa          1.709011e+08  1.050998e+07"
      ]
     },
     "execution_count": 95,
     "metadata": {},
     "output_type": "execute_result"
    }
   ],
   "source": [
    "df.groupby('region')['population'].agg(['max', 'mean'])"
   ]
  },
  {
   "cell_type": "code",
   "execution_count": 96,
   "metadata": {},
   "outputs": [
    {
     "data": {
      "text/html": [
       "<div>\n",
       "<style scoped>\n",
       "    .dataframe tbody tr th:only-of-type {\n",
       "        vertical-align: middle;\n",
       "    }\n",
       "\n",
       "    .dataframe tbody tr th {\n",
       "        vertical-align: top;\n",
       "    }\n",
       "\n",
       "    .dataframe thead th {\n",
       "        text-align: right;\n",
       "    }\n",
       "</style>\n",
       "<table border=\"1\" class=\"dataframe\">\n",
       "  <thead>\n",
       "    <tr style=\"text-align: right;\">\n",
       "      <th></th>\n",
       "      <th></th>\n",
       "      <th>Country</th>\n",
       "      <th>fertility</th>\n",
       "      <th>life</th>\n",
       "      <th>population</th>\n",
       "      <th>child_mortality</th>\n",
       "      <th>gdp</th>\n",
       "    </tr>\n",
       "    <tr>\n",
       "      <th>region</th>\n",
       "      <th>Year</th>\n",
       "      <th></th>\n",
       "      <th></th>\n",
       "      <th></th>\n",
       "      <th></th>\n",
       "      <th></th>\n",
       "      <th></th>\n",
       "    </tr>\n",
       "  </thead>\n",
       "  <tbody>\n",
       "    <tr>\n",
       "      <th rowspan=\"5\" valign=\"top\">South Asia</th>\n",
       "      <th>1964</th>\n",
       "      <td>Afghanistan</td>\n",
       "      <td>7.671</td>\n",
       "      <td>33.639</td>\n",
       "      <td>10474903.0</td>\n",
       "      <td>339.7</td>\n",
       "      <td>1182.0</td>\n",
       "    </tr>\n",
       "    <tr>\n",
       "      <th>1965</th>\n",
       "      <td>Afghanistan</td>\n",
       "      <td>7.671</td>\n",
       "      <td>34.152</td>\n",
       "      <td>10697983.0</td>\n",
       "      <td>334.1</td>\n",
       "      <td>1182.0</td>\n",
       "    </tr>\n",
       "    <tr>\n",
       "      <th>1966</th>\n",
       "      <td>Afghanistan</td>\n",
       "      <td>7.671</td>\n",
       "      <td>34.662</td>\n",
       "      <td>10927724.0</td>\n",
       "      <td>328.7</td>\n",
       "      <td>1168.0</td>\n",
       "    </tr>\n",
       "    <tr>\n",
       "      <th>1967</th>\n",
       "      <td>Afghanistan</td>\n",
       "      <td>7.671</td>\n",
       "      <td>35.170</td>\n",
       "      <td>11163656.0</td>\n",
       "      <td>323.3</td>\n",
       "      <td>1173.0</td>\n",
       "    </tr>\n",
       "    <tr>\n",
       "      <th>1968</th>\n",
       "      <td>Afghanistan</td>\n",
       "      <td>7.671</td>\n",
       "      <td>35.674</td>\n",
       "      <td>11411022.0</td>\n",
       "      <td>318.1</td>\n",
       "      <td>1187.0</td>\n",
       "    </tr>\n",
       "  </tbody>\n",
       "</table>\n",
       "</div>"
      ],
      "text/plain": [
       "                     Country  fertility    life  population  child_mortality  \\\n",
       "region     Year                                                                \n",
       "South Asia 1964  Afghanistan      7.671  33.639  10474903.0            339.7   \n",
       "           1965  Afghanistan      7.671  34.152  10697983.0            334.1   \n",
       "           1966  Afghanistan      7.671  34.662  10927724.0            328.7   \n",
       "           1967  Afghanistan      7.671  35.170  11163656.0            323.3   \n",
       "           1968  Afghanistan      7.671  35.674  11411022.0            318.1   \n",
       "\n",
       "                    gdp  \n",
       "region     Year          \n",
       "South Asia 1964  1182.0  \n",
       "           1965  1182.0  \n",
       "           1966  1168.0  \n",
       "           1967  1173.0  \n",
       "           1968  1187.0  "
      ]
     },
     "execution_count": 96,
     "metadata": {},
     "output_type": "execute_result"
    }
   ],
   "source": [
    "df_mi = pd.read_csv('data/gapminder.csv', index_col = ['region', 'Year'])\n",
    "df_mi.head()"
   ]
  },
  {
   "cell_type": "markdown",
   "metadata": {},
   "source": [
    "### Transformation\n",
    "\n",
    "We can apply a function to groups of data with `.transform()` method. This method allows us perform group-specific computations. The resulting object is indexed as the grouped object, and the sizes are the same."
   ]
  },
  {
   "cell_type": "markdown",
   "metadata": {},
   "source": [
    "#### Standardization Example"
   ]
  },
  {
   "cell_type": "markdown",
   "metadata": {},
   "source": [
    "We can standardize values within a group."
   ]
  },
  {
   "cell_type": "code",
   "execution_count": 97,
   "metadata": {},
   "outputs": [
    {
     "data": {
      "text/html": [
       "<div>\n",
       "<style scoped>\n",
       "    .dataframe tbody tr th:only-of-type {\n",
       "        vertical-align: middle;\n",
       "    }\n",
       "\n",
       "    .dataframe tbody tr th {\n",
       "        vertical-align: top;\n",
       "    }\n",
       "\n",
       "    .dataframe thead th {\n",
       "        text-align: right;\n",
       "    }\n",
       "</style>\n",
       "<table border=\"1\" class=\"dataframe\">\n",
       "  <thead>\n",
       "    <tr style=\"text-align: right;\">\n",
       "      <th></th>\n",
       "      <th>region</th>\n",
       "      <th>life</th>\n",
       "      <th>fertility</th>\n",
       "    </tr>\n",
       "  </thead>\n",
       "  <tbody>\n",
       "    <tr>\n",
       "      <th>46</th>\n",
       "      <td>South Asia</td>\n",
       "      <td>59.612</td>\n",
       "      <td>5.659</td>\n",
       "    </tr>\n",
       "    <tr>\n",
       "      <th>96</th>\n",
       "      <td>Europe &amp; Central Asia</td>\n",
       "      <td>76.780</td>\n",
       "      <td>1.741</td>\n",
       "    </tr>\n",
       "    <tr>\n",
       "      <th>146</th>\n",
       "      <td>Middle East &amp; North Africa</td>\n",
       "      <td>70.615</td>\n",
       "      <td>2.817</td>\n",
       "    </tr>\n",
       "    <tr>\n",
       "      <th>196</th>\n",
       "      <td>Sub-Saharan Africa</td>\n",
       "      <td>50.689</td>\n",
       "      <td>6.218</td>\n",
       "    </tr>\n",
       "    <tr>\n",
       "      <th>246</th>\n",
       "      <td>America</td>\n",
       "      <td>75.437</td>\n",
       "      <td>2.130</td>\n",
       "    </tr>\n",
       "    <tr>\n",
       "      <th>446</th>\n",
       "      <td>East Asia &amp; Pacific</td>\n",
       "      <td>82.091</td>\n",
       "      <td>1.886</td>\n",
       "    </tr>\n",
       "  </tbody>\n",
       "</table>\n",
       "</div>"
      ],
      "text/plain": [
       "                         region    life  fertility\n",
       "46                   South Asia  59.612      5.659\n",
       "96        Europe & Central Asia  76.780      1.741\n",
       "146  Middle East & North Africa  70.615      2.817\n",
       "196          Sub-Saharan Africa  50.689      6.218\n",
       "246                     America  75.437      2.130\n",
       "446         East Asia & Pacific  82.091      1.886"
      ]
     },
     "execution_count": 97,
     "metadata": {},
     "output_type": "execute_result"
    }
   ],
   "source": [
    "# Create a new Data Frame with only 2010 data\n",
    "df_2010 = df[df['Year']==2010]\n",
    "\n",
    "df_2010.groupby('region')['region','life','fertility'].head(1)"
   ]
  },
  {
   "cell_type": "code",
   "execution_count": 98,
   "metadata": {},
   "outputs": [],
   "source": [
    "# Import zscore\n",
    "from scipy.stats import zscore\n",
    "\n",
    "# Group by region and transform the ['life', 'fertility'] columns using zscore\n",
    "standardized = df_2010.groupby('region')['life','fertility'].transform(zscore)"
   ]
  },
  {
   "cell_type": "code",
   "execution_count": 99,
   "metadata": {},
   "outputs": [
    {
     "data": {
      "text/plain": [
       "True"
      ]
     },
     "execution_count": 99,
     "metadata": {},
     "output_type": "execute_result"
    }
   ],
   "source": [
    "# check whether the number of data points are equal\n",
    "df_2010.shape[0] == standardized.shape[0]"
   ]
  },
  {
   "cell_type": "code",
   "execution_count": 100,
   "metadata": {},
   "outputs": [
    {
     "data": {
      "text/plain": [
       "<matplotlib.axes._subplots.AxesSubplot at 0x1a23662780>"
      ]
     },
     "execution_count": 100,
     "metadata": {},
     "output_type": "execute_result"
    },
    {
     "data": {
      "image/png": "[encoded data removed]",
      "text/plain": [
       "<Figure size 432x288 with 1 Axes>"
      ]
     },
     "metadata": {
      "needs_background": "light"
     },
     "output_type": "display_data"
    }
   ],
   "source": [
    "# set whiskers to 3, and mark the outliers in red ('flierprops' specifies the style of the fliers)\n",
    "standardized.plot(kind='box', whis=3, flierprops=dict(markerfacecolor='r', marker='D'))"
   ]
  },
  {
   "cell_type": "code",
   "execution_count": 101,
   "metadata": {},
   "outputs": [
    {
     "data": {
      "text/html": [
       "<div>\n",
       "<style scoped>\n",
       "    .dataframe tbody tr th:only-of-type {\n",
       "        vertical-align: middle;\n",
       "    }\n",
       "\n",
       "    .dataframe tbody tr th {\n",
       "        vertical-align: top;\n",
       "    }\n",
       "\n",
       "    .dataframe thead th {\n",
       "        text-align: right;\n",
       "    }\n",
       "</style>\n",
       "<table border=\"1\" class=\"dataframe\">\n",
       "  <thead>\n",
       "    <tr style=\"text-align: right;\">\n",
       "      <th></th>\n",
       "      <th>Country</th>\n",
       "      <th>Year</th>\n",
       "      <th>fertility</th>\n",
       "      <th>life</th>\n",
       "      <th>population</th>\n",
       "      <th>child_mortality</th>\n",
       "      <th>gdp</th>\n",
       "      <th>region</th>\n",
       "    </tr>\n",
       "  </thead>\n",
       "  <tbody>\n",
       "    <tr>\n",
       "      <th>3646</th>\n",
       "      <td>Guatemala</td>\n",
       "      <td>2010</td>\n",
       "      <td>3.974</td>\n",
       "      <td>71.100</td>\n",
       "      <td>14388929.0</td>\n",
       "      <td>34.5</td>\n",
       "      <td>6849.0</td>\n",
       "      <td>America</td>\n",
       "    </tr>\n",
       "    <tr>\n",
       "      <th>3846</th>\n",
       "      <td>Haiti</td>\n",
       "      <td>2010</td>\n",
       "      <td>3.350</td>\n",
       "      <td>45.000</td>\n",
       "      <td>9993247.0</td>\n",
       "      <td>208.8</td>\n",
       "      <td>1518.0</td>\n",
       "      <td>America</td>\n",
       "    </tr>\n",
       "    <tr>\n",
       "      <th>8846</th>\n",
       "      <td>Tajikistan</td>\n",
       "      <td>2010</td>\n",
       "      <td>3.780</td>\n",
       "      <td>66.830</td>\n",
       "      <td>6878637.0</td>\n",
       "      <td>52.6</td>\n",
       "      <td>2110.0</td>\n",
       "      <td>Europe &amp; Central Asia</td>\n",
       "    </tr>\n",
       "    <tr>\n",
       "      <th>8996</th>\n",
       "      <td>Timor-Leste</td>\n",
       "      <td>2010</td>\n",
       "      <td>6.237</td>\n",
       "      <td>65.952</td>\n",
       "      <td>1124355.0</td>\n",
       "      <td>63.8</td>\n",
       "      <td>1777.0</td>\n",
       "      <td>East Asia &amp; Pacific</td>\n",
       "    </tr>\n",
       "  </tbody>\n",
       "</table>\n",
       "</div>"
      ],
      "text/plain": [
       "          Country  Year  fertility    life  population  child_mortality  \\\n",
       "3646    Guatemala  2010      3.974  71.100  14388929.0             34.5   \n",
       "3846        Haiti  2010      3.350  45.000   9993247.0            208.8   \n",
       "8846   Tajikistan  2010      3.780  66.830   6878637.0             52.6   \n",
       "8996  Timor-Leste  2010      6.237  65.952   1124355.0             63.8   \n",
       "\n",
       "         gdp                 region  \n",
       "3646  6849.0                America  \n",
       "3846  1518.0                America  \n",
       "8846  2110.0  Europe & Central Asia  \n",
       "8996  1777.0    East Asia & Pacific  "
      ]
     },
     "execution_count": 101,
     "metadata": {},
     "output_type": "execute_result"
    }
   ],
   "source": [
    "# Construct a Boolean Series to identify outliers\n",
    "outliers = (standardized['life'] < -3) | (standardized['fertility'] > 3)\n",
    "\n",
    "# Filter data by the outliers\n",
    "df_outliers = df_2010.loc[outliers]\n",
    "\n",
    "# Print outliers\n",
    "df_outliers.head()"
   ]
  },
  {
   "cell_type": "markdown",
   "metadata": {},
   "source": [
    "#### Imputation Example\n",
    "\n",
    "We can use `.groupby()` and `.transform()` to fill missing data for each group. Let's investigate which columns have missing data."
   ]
  },
  {
   "cell_type": "code",
   "execution_count": 102,
   "metadata": {},
   "outputs": [
    {
     "name": "stdout",
     "output_type": "stream",
     "text": [
      "<class 'pandas.core.frame.DataFrame'>\n",
      "Int64Index: 202 entries, 46 to 10097\n",
      "Data columns (total 8 columns):\n",
      "Country            202 non-null object\n",
      "Year               202 non-null int64\n",
      "fertility          202 non-null float64\n",
      "life               202 non-null float64\n",
      "population         202 non-null float64\n",
      "child_mortality    189 non-null float64\n",
      "gdp                180 non-null float64\n",
      "region             202 non-null object\n",
      "dtypes: float64(5), int64(1), object(2)\n",
      "memory usage: 14.2+ KB\n"
     ]
    }
   ],
   "source": [
    "df_2010.info()"
   ]
  },
  {
   "cell_type": "code",
   "execution_count": 103,
   "metadata": {},
   "outputs": [
    {
     "name": "stdout",
     "output_type": "stream",
     "text": [
      "<class 'pandas.core.frame.DataFrame'>\n",
      "Int64Index: 202 entries, 46 to 10097\n",
      "Data columns (total 8 columns):\n",
      "Country            202 non-null object\n",
      "Year               202 non-null int64\n",
      "fertility          202 non-null float64\n",
      "life               202 non-null float64\n",
      "population         202 non-null float64\n",
      "child_mortality    202 non-null float64\n",
      "gdp                180 non-null float64\n",
      "region             202 non-null object\n",
      "dtypes: float64(5), int64(1), object(2)\n",
      "memory usage: 14.2+ KB\n"
     ]
    },
    {
     "name": "stderr",
     "output_type": "stream",
     "text": [
      "/anaconda3/lib/python3.7/site-packages/ipykernel_launcher.py:6: SettingWithCopyWarning: \n",
      "A value is trying to be set on a copy of a slice from a DataFrame.\n",
      "Try using .loc[row_indexer,col_indexer] = value instead\n",
      "\n",
      "See the caveats in the documentation: http://pandas.pydata.org/pandas-docs/stable/indexing.html#indexing-view-versus-copy\n",
      "  \n"
     ]
    }
   ],
   "source": [
    "# A function that imputes median\n",
    "def impute_median(series):\n",
    "    return series.fillna(series.median())\n",
    "\n",
    "# Data is grouped and NA's in the child_mortality column are filled with median of the each region\n",
    "df_2010['child_mortality'] = df_2010.groupby('region')['child_mortality'].transform(impute_median)\n",
    "df_2010.info()"
   ]
  },
  {
   "cell_type": "markdown",
   "metadata": {},
   "source": [
    "#### Tranformation with `.apply()` Method"
   ]
  },
  {
   "cell_type": "markdown",
   "metadata": {},
   "source": [
    "Lets's analyze economic disparity within regions of the world as an example."
   ]
  },
  {
   "cell_type": "code",
   "execution_count": 104,
   "metadata": {},
   "outputs": [
    {
     "data": {
      "text/html": [
       "<div>\n",
       "<style scoped>\n",
       "    .dataframe tbody tr th:only-of-type {\n",
       "        vertical-align: middle;\n",
       "    }\n",
       "\n",
       "    .dataframe tbody tr th {\n",
       "        vertical-align: top;\n",
       "    }\n",
       "\n",
       "    .dataframe thead th {\n",
       "        text-align: right;\n",
       "    }\n",
       "</style>\n",
       "<table border=\"1\" class=\"dataframe\">\n",
       "  <thead>\n",
       "    <tr style=\"text-align: right;\">\n",
       "      <th></th>\n",
       "      <th>z(gdp)</th>\n",
       "      <th>regional spread(gdp)</th>\n",
       "    </tr>\n",
       "    <tr>\n",
       "      <th>Country</th>\n",
       "      <th></th>\n",
       "      <th></th>\n",
       "    </tr>\n",
       "  </thead>\n",
       "  <tbody>\n",
       "    <tr>\n",
       "      <th>Turkey</th>\n",
       "      <td>-0.562563</td>\n",
       "      <td>89037.0</td>\n",
       "    </tr>\n",
       "    <tr>\n",
       "      <th>Germany</th>\n",
       "      <td>0.827745</td>\n",
       "      <td>89037.0</td>\n",
       "    </tr>\n",
       "    <tr>\n",
       "      <th>United States</th>\n",
       "      <td>3.013374</td>\n",
       "      <td>47855.0</td>\n",
       "    </tr>\n",
       "    <tr>\n",
       "      <th>China</th>\n",
       "      <td>-0.432756</td>\n",
       "      <td>96993.0</td>\n",
       "    </tr>\n",
       "  </tbody>\n",
       "</table>\n",
       "</div>"
      ],
      "text/plain": [
       "                 z(gdp)  regional spread(gdp)\n",
       "Country                                      \n",
       "Turkey        -0.562563               89037.0\n",
       "Germany        0.827745               89037.0\n",
       "United States  3.013374               47855.0\n",
       "China         -0.432756               96993.0"
      ]
     },
     "execution_count": 104,
     "metadata": {},
     "output_type": "execute_result"
    }
   ],
   "source": [
    "def disparity(gr):\n",
    "    '''A function to compute the spread of per capita GDP in each region and\n",
    "    each country's z-score of the regional per capita GDP'''\n",
    "    \n",
    "    # Compute the spread of gr['gdp']: s\n",
    "    s = gr['gdp'].max() - gr['gdp'].min()\n",
    "    # Compute the z-score of gr['gdp'] as (gr['gdp']-gr['gdp'].mean())/gr['gdp'].std(): z\n",
    "    z = (gr['gdp'] - gr['gdp'].mean())/gr['gdp'].std()\n",
    "    # Return a DataFrame with the inputs {'z(gdp)':z, 'regional spread(gdp)':s}\n",
    "    return pd.DataFrame({'z(gdp)':z , 'regional spread(gdp)':s})\n",
    "\n",
    "# set the index of df_2010 as Country\n",
    "df_2010.set_index('Country', inplace=True)\n",
    "\n",
    "# Group df_2010 by 'region' and apply the disparity function on regions\n",
    "disp = df_2010.groupby('region').apply(disparity)\n",
    "\n",
    "# Print the disparity of 'Turkey', 'Germany' and  United States'\n",
    "disp.loc[['Turkey', 'Germany', 'United States', 'China']]"
   ]
  }
 ],
 "metadata": {
  "kernelspec": {
   "display_name": "Python 3",
   "language": "python",
   "name": "python3"
  },
  "language_info": {
   "codemirror_mode": {
    "name": "ipython",
    "version": 3
   },
   "file_extension": ".py",
   "mimetype": "text/x-python",
   "name": "python",
   "nbconvert_exporter": "python",
   "pygments_lexer": "ipython3",
   "version": "3.7.0"
  }
 },
 "nbformat": 4,
 "nbformat_minor": 2
}
